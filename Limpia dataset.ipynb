{
 "cells": [
  {
   "cell_type": "markdown",
   "id": "8dfaf698",
   "metadata": {},
   "source": [
    "# LIBRARIES"
   ]
  },
  {
   "cell_type": "code",
   "execution_count": 1,
   "id": "3a019b67",
   "metadata": {},
   "outputs": [],
   "source": [
    "import pandas as pd\n",
    "import seaborn as sns\n",
    "from sklearn.model_selection import train_test_split"
   ]
  },
  {
   "cell_type": "code",
   "execution_count": 2,
   "id": "348b420c",
   "metadata": {},
   "outputs": [],
   "source": [
    "dtrain = pd.read_csv(\"Data/train.csv\")\n"
   ]
  },
  {
   "cell_type": "markdown",
   "id": "e15a12c8",
   "metadata": {},
   "source": [
    "# EXPLORE THE DATASET"
   ]
  },
  {
   "cell_type": "code",
   "execution_count": 3,
   "id": "a1907ea8",
   "metadata": {},
   "outputs": [
    {
     "data": {
      "text/plain": [
       "(40455, 11)"
      ]
     },
     "execution_count": 3,
     "metadata": {},
     "output_type": "execute_result"
    }
   ],
   "source": [
    "dtrain.shape"
   ]
  },
  {
   "cell_type": "code",
   "execution_count": 4,
   "id": "936da6b4",
   "metadata": {},
   "outputs": [
    {
     "data": {
      "text/html": [
       "<div>\n",
       "<style scoped>\n",
       "    .dataframe tbody tr th:only-of-type {\n",
       "        vertical-align: middle;\n",
       "    }\n",
       "\n",
       "    .dataframe tbody tr th {\n",
       "        vertical-align: top;\n",
       "    }\n",
       "\n",
       "    .dataframe thead th {\n",
       "        text-align: right;\n",
       "    }\n",
       "</style>\n",
       "<table border=\"1\" class=\"dataframe\">\n",
       "  <thead>\n",
       "    <tr style=\"text-align: right;\">\n",
       "      <th></th>\n",
       "      <th>id</th>\n",
       "      <th>carat</th>\n",
       "      <th>cut</th>\n",
       "      <th>color</th>\n",
       "      <th>clarity</th>\n",
       "      <th>depth</th>\n",
       "      <th>table</th>\n",
       "      <th>x</th>\n",
       "      <th>y</th>\n",
       "      <th>z</th>\n",
       "      <th>price</th>\n",
       "    </tr>\n",
       "  </thead>\n",
       "  <tbody>\n",
       "    <tr>\n",
       "      <th>0</th>\n",
       "      <td>0</td>\n",
       "      <td>0.3</td>\n",
       "      <td>Premium</td>\n",
       "      <td>D</td>\n",
       "      <td>SI2</td>\n",
       "      <td>62.4</td>\n",
       "      <td>58.0</td>\n",
       "      <td>4.31</td>\n",
       "      <td>4.28</td>\n",
       "      <td>2.68</td>\n",
       "      <td>6.353</td>\n",
       "    </tr>\n",
       "  </tbody>\n",
       "</table>\n",
       "</div>"
      ],
      "text/plain": [
       "   id  carat      cut color clarity  depth  table     x     y     z  price\n",
       "0   0    0.3  Premium     D     SI2   62.4   58.0  4.31  4.28  2.68  6.353"
      ]
     },
     "execution_count": 4,
     "metadata": {},
     "output_type": "execute_result"
    }
   ],
   "source": [
    "dtrain.head(1)"
   ]
  },
  {
   "cell_type": "code",
   "execution_count": 5,
   "id": "2d99e130",
   "metadata": {},
   "outputs": [
    {
     "name": "stdout",
     "output_type": "stream",
     "text": [
      "<class 'pandas.core.frame.DataFrame'>\n",
      "RangeIndex: 40455 entries, 0 to 40454\n",
      "Data columns (total 11 columns):\n",
      " #   Column   Non-Null Count  Dtype  \n",
      "---  ------   --------------  -----  \n",
      " 0   id       40455 non-null  int64  \n",
      " 1   carat    40455 non-null  float64\n",
      " 2   cut      40455 non-null  object \n",
      " 3   color    40455 non-null  object \n",
      " 4   clarity  40455 non-null  object \n",
      " 5   depth    40455 non-null  float64\n",
      " 6   table    40455 non-null  float64\n",
      " 7   x        40455 non-null  float64\n",
      " 8   y        40455 non-null  float64\n",
      " 9   z        40455 non-null  float64\n",
      " 10  price    40455 non-null  float64\n",
      "dtypes: float64(7), int64(1), object(3)\n",
      "memory usage: 3.4+ MB\n"
     ]
    }
   ],
   "source": [
    "dtrain.info()"
   ]
  },
  {
   "cell_type": "code",
   "execution_count": 6,
   "id": "17f59656",
   "metadata": {},
   "outputs": [
    {
     "data": {
      "text/plain": [
       "array(['D', 'E', 'F', 'G', 'H', 'I', 'J'], dtype=object)"
      ]
     },
     "execution_count": 6,
     "metadata": {},
     "output_type": "execute_result"
    }
   ],
   "source": [
    "(dtrain.color.unique())"
   ]
  },
  {
   "cell_type": "code",
   "execution_count": 7,
   "id": "0eedadce",
   "metadata": {},
   "outputs": [
    {
     "data": {
      "text/plain": [
       "array(['Premium', 'Ideal', 'Very Good', 'Fair', 'Good'], dtype=object)"
      ]
     },
     "execution_count": 7,
     "metadata": {},
     "output_type": "execute_result"
    }
   ],
   "source": [
    "dtrain.cut.unique()"
   ]
  },
  {
   "cell_type": "code",
   "execution_count": 8,
   "id": "5bb5b411",
   "metadata": {},
   "outputs": [
    {
     "data": {
      "text/plain": [
       "array(['SI2', 'VVS2', 'VS2', 'VS1', 'SI1', 'VVS1', 'IF', 'I1'],\n",
       "      dtype=object)"
      ]
     },
     "execution_count": 8,
     "metadata": {},
     "output_type": "execute_result"
    }
   ],
   "source": [
    "(dtrain.clarity.unique())"
   ]
  },
  {
   "cell_type": "code",
   "execution_count": 9,
   "id": "dedbd141",
   "metadata": {},
   "outputs": [],
   "source": [
    "# Le damos un valor dependiendo de la claridad, cuanto mayor el numero, mayor claridad"
   ]
  },
  {
   "cell_type": "code",
   "execution_count": 10,
   "id": "a8d786d9",
   "metadata": {},
   "outputs": [],
   "source": [
    "#primero vamos a ver la relacion entre las 4cs. Lo mas importante a la hora de determinar el precio de los diamantes."
   ]
  },
  {
   "cell_type": "code",
   "execution_count": 11,
   "id": "71854e5b",
   "metadata": {},
   "outputs": [],
   "source": [
    "clrarity_ranking = {'SI2': 2, 'VVS2': 6, 'VS2': 4, 'VS1': 5,'SI1': 3, 'VVS1': 7, 'IF': 8,'I1':1}"
   ]
  },
  {
   "cell_type": "code",
   "execution_count": 12,
   "id": "da10e279",
   "metadata": {},
   "outputs": [],
   "source": [
    "color_ranking = {'D': 7,  'E': 6, 'F': 5, 'G': 4,'H': 3, 'I': 2, 'J': 1,}    "
   ]
  },
  {
   "cell_type": "code",
   "execution_count": 13,
   "id": "f756094a",
   "metadata": {},
   "outputs": [],
   "source": [
    "cut_ranking = {'Premium':4,'Ideal': 5,'Very Good':3,'Fair': 2,'Good': 1,}    "
   ]
  },
  {
   "cell_type": "code",
   "execution_count": 14,
   "id": "aaa12cf6",
   "metadata": {},
   "outputs": [],
   "source": [
    "def transfromar_a_categoricas(df):\n",
    "    df.clarity = df.clarity.map(clrarity_ranking)\n",
    "    df.color = df.color.map(color_ranking)\n",
    "    df.cut = df.cut.map(cut_ranking)\n",
    "    return df\n",
    "    \n",
    "# Transformamos las variables a categoricas."
   ]
  },
  {
   "cell_type": "code",
   "execution_count": 15,
   "id": "6983b45d",
   "metadata": {},
   "outputs": [],
   "source": [
    "df_train = transfromar_a_categoricas(dtrain)"
   ]
  },
  {
   "cell_type": "code",
   "execution_count": 16,
   "id": "a36f6821",
   "metadata": {},
   "outputs": [],
   "source": [
    "X = df_train.drop('price', axis=1)\n",
    "y = df_train.price"
   ]
  },
  {
   "cell_type": "code",
   "execution_count": 17,
   "id": "3d471f4b",
   "metadata": {},
   "outputs": [],
   "source": [
    "X_train, X_test, y_train, y_test = train_test_split(X, y, test_size=0.2)"
   ]
  },
  {
   "cell_type": "code",
   "execution_count": 18,
   "id": "ec6e5385",
   "metadata": {},
   "outputs": [
    {
     "data": {
      "text/plain": [
       "(32364, 10)"
      ]
     },
     "execution_count": 18,
     "metadata": {},
     "output_type": "execute_result"
    }
   ],
   "source": [
    "X_train.shape"
   ]
  },
  {
   "cell_type": "code",
   "execution_count": 19,
   "id": "62d9b62d",
   "metadata": {},
   "outputs": [
    {
     "data": {
      "text/plain": [
       "(8091, 10)"
      ]
     },
     "execution_count": 19,
     "metadata": {},
     "output_type": "execute_result"
    }
   ],
   "source": [
    "X_test.shape"
   ]
  },
  {
   "cell_type": "code",
   "execution_count": 20,
   "id": "5e0d6835",
   "metadata": {},
   "outputs": [
    {
     "data": {
      "text/plain": [
       "(8091,)"
      ]
     },
     "execution_count": 20,
     "metadata": {},
     "output_type": "execute_result"
    }
   ],
   "source": [
    "y_test.shape"
   ]
  },
  {
   "cell_type": "code",
   "execution_count": 21,
   "id": "3b534f53",
   "metadata": {},
   "outputs": [
    {
     "data": {
      "text/plain": [
       "(32364,)"
      ]
     },
     "execution_count": 21,
     "metadata": {},
     "output_type": "execute_result"
    }
   ],
   "source": [
    "y_train.shape"
   ]
  },
  {
   "cell_type": "markdown",
   "id": "cef3da9d",
   "metadata": {},
   "source": [
    "# PREDICTIONS"
   ]
  },
  {
   "cell_type": "code",
   "execution_count": 22,
   "id": "d2d1bdb4",
   "metadata": {},
   "outputs": [],
   "source": [
    "from sklearn.linear_model import LinearRegression\n",
    "from sklearn.tree import DecisionTreeRegressor\n",
    "from sklearn.ensemble import RandomForestRegressor\n",
    "from sklearn.metrics import mean_squared_error as mse\n",
    "from sklearn import metrics"
   ]
  },
  {
   "cell_type": "code",
   "execution_count": 23,
   "id": "dddeba2d",
   "metadata": {},
   "outputs": [],
   "source": [
    "dtrain.drop('id',axis = 1, inplace=True)"
   ]
  },
  {
   "cell_type": "code",
   "execution_count": 24,
   "id": "650ff6d0",
   "metadata": {},
   "outputs": [
    {
     "data": {
      "text/html": [
       "<div>\n",
       "<style scoped>\n",
       "    .dataframe tbody tr th:only-of-type {\n",
       "        vertical-align: middle;\n",
       "    }\n",
       "\n",
       "    .dataframe tbody tr th {\n",
       "        vertical-align: top;\n",
       "    }\n",
       "\n",
       "    .dataframe thead th {\n",
       "        text-align: right;\n",
       "    }\n",
       "</style>\n",
       "<table border=\"1\" class=\"dataframe\">\n",
       "  <thead>\n",
       "    <tr style=\"text-align: right;\">\n",
       "      <th></th>\n",
       "      <th>carat</th>\n",
       "      <th>cut</th>\n",
       "      <th>color</th>\n",
       "      <th>clarity</th>\n",
       "      <th>depth</th>\n",
       "      <th>table</th>\n",
       "      <th>x</th>\n",
       "      <th>y</th>\n",
       "      <th>z</th>\n",
       "      <th>price</th>\n",
       "    </tr>\n",
       "  </thead>\n",
       "  <tbody>\n",
       "    <tr>\n",
       "      <th>carat</th>\n",
       "      <td>1.000000</td>\n",
       "      <td>-0.112795</td>\n",
       "      <td>-0.293307</td>\n",
       "      <td>-0.353255</td>\n",
       "      <td>0.023585</td>\n",
       "      <td>0.185478</td>\n",
       "      <td>0.974648</td>\n",
       "      <td>0.944419</td>\n",
       "      <td>0.947469</td>\n",
       "      <td>0.920064</td>\n",
       "    </tr>\n",
       "    <tr>\n",
       "      <th>cut</th>\n",
       "      <td>-0.112795</td>\n",
       "      <td>1.000000</td>\n",
       "      <td>0.012338</td>\n",
       "      <td>0.174997</td>\n",
       "      <td>-0.186604</td>\n",
       "      <td>-0.412244</td>\n",
       "      <td>-0.106041</td>\n",
       "      <td>-0.103462</td>\n",
       "      <td>-0.125538</td>\n",
       "      <td>-0.072587</td>\n",
       "    </tr>\n",
       "    <tr>\n",
       "      <th>color</th>\n",
       "      <td>-0.293307</td>\n",
       "      <td>0.012338</td>\n",
       "      <td>1.000000</td>\n",
       "      <td>-0.023444</td>\n",
       "      <td>-0.047839</td>\n",
       "      <td>-0.028516</td>\n",
       "      <td>-0.272222</td>\n",
       "      <td>-0.263498</td>\n",
       "      <td>-0.268702</td>\n",
       "      <td>-0.157426</td>\n",
       "    </tr>\n",
       "    <tr>\n",
       "      <th>clarity</th>\n",
       "      <td>-0.353255</td>\n",
       "      <td>0.174997</td>\n",
       "      <td>-0.023444</td>\n",
       "      <td>1.000000</td>\n",
       "      <td>-0.066904</td>\n",
       "      <td>-0.161419</td>\n",
       "      <td>-0.371745</td>\n",
       "      <td>-0.355509</td>\n",
       "      <td>-0.364293</td>\n",
       "      <td>-0.213649</td>\n",
       "    </tr>\n",
       "    <tr>\n",
       "      <th>depth</th>\n",
       "      <td>0.023585</td>\n",
       "      <td>-0.186604</td>\n",
       "      <td>-0.047839</td>\n",
       "      <td>-0.066904</td>\n",
       "      <td>1.000000</td>\n",
       "      <td>-0.299203</td>\n",
       "      <td>-0.029867</td>\n",
       "      <td>-0.033960</td>\n",
       "      <td>0.089474</td>\n",
       "      <td>-0.003292</td>\n",
       "    </tr>\n",
       "    <tr>\n",
       "      <th>table</th>\n",
       "      <td>0.185478</td>\n",
       "      <td>-0.412244</td>\n",
       "      <td>-0.028516</td>\n",
       "      <td>-0.161419</td>\n",
       "      <td>-0.299203</td>\n",
       "      <td>1.000000</td>\n",
       "      <td>0.200374</td>\n",
       "      <td>0.186788</td>\n",
       "      <td>0.153726</td>\n",
       "      <td>0.162804</td>\n",
       "    </tr>\n",
       "    <tr>\n",
       "      <th>x</th>\n",
       "      <td>0.974648</td>\n",
       "      <td>-0.106041</td>\n",
       "      <td>-0.272222</td>\n",
       "      <td>-0.371745</td>\n",
       "      <td>-0.029867</td>\n",
       "      <td>0.200374</td>\n",
       "      <td>1.000000</td>\n",
       "      <td>0.967315</td>\n",
       "      <td>0.965496</td>\n",
       "      <td>0.957668</td>\n",
       "    </tr>\n",
       "    <tr>\n",
       "      <th>y</th>\n",
       "      <td>0.944419</td>\n",
       "      <td>-0.103462</td>\n",
       "      <td>-0.263498</td>\n",
       "      <td>-0.355509</td>\n",
       "      <td>-0.033960</td>\n",
       "      <td>0.186788</td>\n",
       "      <td>0.967315</td>\n",
       "      <td>1.000000</td>\n",
       "      <td>0.941176</td>\n",
       "      <td>0.928909</td>\n",
       "    </tr>\n",
       "    <tr>\n",
       "      <th>z</th>\n",
       "      <td>0.947469</td>\n",
       "      <td>-0.125538</td>\n",
       "      <td>-0.268702</td>\n",
       "      <td>-0.364293</td>\n",
       "      <td>0.089474</td>\n",
       "      <td>0.153726</td>\n",
       "      <td>0.965496</td>\n",
       "      <td>0.941176</td>\n",
       "      <td>1.000000</td>\n",
       "      <td>0.930014</td>\n",
       "    </tr>\n",
       "    <tr>\n",
       "      <th>price</th>\n",
       "      <td>0.920064</td>\n",
       "      <td>-0.072587</td>\n",
       "      <td>-0.157426</td>\n",
       "      <td>-0.213649</td>\n",
       "      <td>-0.003292</td>\n",
       "      <td>0.162804</td>\n",
       "      <td>0.957668</td>\n",
       "      <td>0.928909</td>\n",
       "      <td>0.930014</td>\n",
       "      <td>1.000000</td>\n",
       "    </tr>\n",
       "  </tbody>\n",
       "</table>\n",
       "</div>"
      ],
      "text/plain": [
       "            carat       cut     color   clarity     depth     table         x  \\\n",
       "carat    1.000000 -0.112795 -0.293307 -0.353255  0.023585  0.185478  0.974648   \n",
       "cut     -0.112795  1.000000  0.012338  0.174997 -0.186604 -0.412244 -0.106041   \n",
       "color   -0.293307  0.012338  1.000000 -0.023444 -0.047839 -0.028516 -0.272222   \n",
       "clarity -0.353255  0.174997 -0.023444  1.000000 -0.066904 -0.161419 -0.371745   \n",
       "depth    0.023585 -0.186604 -0.047839 -0.066904  1.000000 -0.299203 -0.029867   \n",
       "table    0.185478 -0.412244 -0.028516 -0.161419 -0.299203  1.000000  0.200374   \n",
       "x        0.974648 -0.106041 -0.272222 -0.371745 -0.029867  0.200374  1.000000   \n",
       "y        0.944419 -0.103462 -0.263498 -0.355509 -0.033960  0.186788  0.967315   \n",
       "z        0.947469 -0.125538 -0.268702 -0.364293  0.089474  0.153726  0.965496   \n",
       "price    0.920064 -0.072587 -0.157426 -0.213649 -0.003292  0.162804  0.957668   \n",
       "\n",
       "                y         z     price  \n",
       "carat    0.944419  0.947469  0.920064  \n",
       "cut     -0.103462 -0.125538 -0.072587  \n",
       "color   -0.263498 -0.268702 -0.157426  \n",
       "clarity -0.355509 -0.364293 -0.213649  \n",
       "depth   -0.033960  0.089474 -0.003292  \n",
       "table    0.186788  0.153726  0.162804  \n",
       "x        0.967315  0.965496  0.957668  \n",
       "y        1.000000  0.941176  0.928909  \n",
       "z        0.941176  1.000000  0.930014  \n",
       "price    0.928909  0.930014  1.000000  "
      ]
     },
     "execution_count": 24,
     "metadata": {},
     "output_type": "execute_result"
    }
   ],
   "source": [
    "dtrain.corr()"
   ]
  },
  {
   "cell_type": "code",
   "execution_count": 25,
   "id": "4e1029a9",
   "metadata": {},
   "outputs": [],
   "source": [
    "X = df_train.drop('price', axis=1)\n",
    "y = df_train.price"
   ]
  },
  {
   "cell_type": "markdown",
   "id": "e51cd978-91d6-416a-ac63-3dbb4362f1e3",
   "metadata": {},
   "source": [
    "# DECISION TREE REGRESSION"
   ]
  },
  {
   "cell_type": "code",
   "execution_count": 26,
   "id": "9444f25f-d3d1-48ad-b55c-156f9a68015d",
   "metadata": {},
   "outputs": [],
   "source": [
    "from sklearn.tree import DecisionTreeRegressor\n",
    "from sklearn.tree import plot_tree\n",
    "from sklearn.metrics import mean_squared_error"
   ]
  },
  {
   "cell_type": "code",
   "execution_count": 27,
   "id": "babb62c7-435b-4b99-b7bd-8c932dfcb6e2",
   "metadata": {},
   "outputs": [],
   "source": [
    "results = []\n",
    "\n",
    "for depth in range(1, 30):\n",
    "    model = DecisionTreeRegressor(max_depth=depth, random_state=222)\n",
    "    model.fit(X_train, y_train)\n",
    "    \n",
    "    result = {\n",
    "        \"model\": model,\n",
    "        \"depth\": depth,\n",
    "        \"train_error\": mean_squared_error(y_train, model.predict(X_train)),\n",
    "        \"test_error\": mean_squared_error(y_test, model.predict(X_test))\n",
    "    }\n",
    "    \n",
    "    results.append(result)"
   ]
  },
  {
   "cell_type": "code",
   "execution_count": 28,
   "id": "c6d7ba4e-e1f5-46c0-b3da-ebf7f1843587",
   "metadata": {},
   "outputs": [],
   "source": [
    "results_df = pd.DataFrame(results)"
   ]
  },
  {
   "cell_type": "code",
   "execution_count": 29,
   "id": "78793084-15b1-424d-b558-ee025fa5af7b",
   "metadata": {},
   "outputs": [
    {
     "data": {
      "text/html": [
       "<div>\n",
       "<style scoped>\n",
       "    .dataframe tbody tr th:only-of-type {\n",
       "        vertical-align: middle;\n",
       "    }\n",
       "\n",
       "    .dataframe tbody tr th {\n",
       "        vertical-align: top;\n",
       "    }\n",
       "\n",
       "    .dataframe thead th {\n",
       "        text-align: right;\n",
       "    }\n",
       "</style>\n",
       "<table border=\"1\" class=\"dataframe\">\n",
       "  <thead>\n",
       "    <tr style=\"text-align: right;\">\n",
       "      <th></th>\n",
       "      <th>model</th>\n",
       "      <th>depth</th>\n",
       "      <th>train_error</th>\n",
       "      <th>test_error</th>\n",
       "    </tr>\n",
       "  </thead>\n",
       "  <tbody>\n",
       "    <tr>\n",
       "      <th>0</th>\n",
       "      <td>DecisionTreeRegressor(max_depth=1, random_stat...</td>\n",
       "      <td>1</td>\n",
       "      <td>2.836509e-01</td>\n",
       "      <td>0.288411</td>\n",
       "    </tr>\n",
       "    <tr>\n",
       "      <th>1</th>\n",
       "      <td>DecisionTreeRegressor(max_depth=2, random_stat...</td>\n",
       "      <td>2</td>\n",
       "      <td>1.241126e-01</td>\n",
       "      <td>0.124528</td>\n",
       "    </tr>\n",
       "    <tr>\n",
       "      <th>2</th>\n",
       "      <td>DecisionTreeRegressor(max_depth=3, random_stat...</td>\n",
       "      <td>3</td>\n",
       "      <td>7.349940e-02</td>\n",
       "      <td>0.072930</td>\n",
       "    </tr>\n",
       "    <tr>\n",
       "      <th>3</th>\n",
       "      <td>DecisionTreeRegressor(max_depth=4, random_stat...</td>\n",
       "      <td>4</td>\n",
       "      <td>5.324591e-02</td>\n",
       "      <td>0.053636</td>\n",
       "    </tr>\n",
       "    <tr>\n",
       "      <th>4</th>\n",
       "      <td>DecisionTreeRegressor(max_depth=5, random_stat...</td>\n",
       "      <td>5</td>\n",
       "      <td>3.937477e-02</td>\n",
       "      <td>0.039973</td>\n",
       "    </tr>\n",
       "    <tr>\n",
       "      <th>5</th>\n",
       "      <td>DecisionTreeRegressor(max_depth=6, random_stat...</td>\n",
       "      <td>6</td>\n",
       "      <td>2.844959e-02</td>\n",
       "      <td>0.029545</td>\n",
       "    </tr>\n",
       "    <tr>\n",
       "      <th>6</th>\n",
       "      <td>DecisionTreeRegressor(max_depth=7, random_stat...</td>\n",
       "      <td>7</td>\n",
       "      <td>2.126514e-02</td>\n",
       "      <td>0.023429</td>\n",
       "    </tr>\n",
       "    <tr>\n",
       "      <th>7</th>\n",
       "      <td>DecisionTreeRegressor(max_depth=8, random_stat...</td>\n",
       "      <td>8</td>\n",
       "      <td>1.696827e-02</td>\n",
       "      <td>0.019708</td>\n",
       "    </tr>\n",
       "    <tr>\n",
       "      <th>8</th>\n",
       "      <td>DecisionTreeRegressor(max_depth=9, random_stat...</td>\n",
       "      <td>9</td>\n",
       "      <td>1.366796e-02</td>\n",
       "      <td>0.017200</td>\n",
       "    </tr>\n",
       "    <tr>\n",
       "      <th>9</th>\n",
       "      <td>DecisionTreeRegressor(max_depth=10, random_sta...</td>\n",
       "      <td>10</td>\n",
       "      <td>1.091660e-02</td>\n",
       "      <td>0.015632</td>\n",
       "    </tr>\n",
       "    <tr>\n",
       "      <th>10</th>\n",
       "      <td>DecisionTreeRegressor(max_depth=11, random_sta...</td>\n",
       "      <td>11</td>\n",
       "      <td>8.730166e-03</td>\n",
       "      <td>0.014499</td>\n",
       "    </tr>\n",
       "    <tr>\n",
       "      <th>11</th>\n",
       "      <td>DecisionTreeRegressor(max_depth=12, random_sta...</td>\n",
       "      <td>12</td>\n",
       "      <td>6.881212e-03</td>\n",
       "      <td>0.013944</td>\n",
       "    </tr>\n",
       "    <tr>\n",
       "      <th>12</th>\n",
       "      <td>DecisionTreeRegressor(max_depth=13, random_sta...</td>\n",
       "      <td>13</td>\n",
       "      <td>5.205193e-03</td>\n",
       "      <td>0.014294</td>\n",
       "    </tr>\n",
       "    <tr>\n",
       "      <th>13</th>\n",
       "      <td>DecisionTreeRegressor(max_depth=14, random_sta...</td>\n",
       "      <td>14</td>\n",
       "      <td>3.854634e-03</td>\n",
       "      <td>0.014540</td>\n",
       "    </tr>\n",
       "    <tr>\n",
       "      <th>14</th>\n",
       "      <td>DecisionTreeRegressor(max_depth=15, random_sta...</td>\n",
       "      <td>15</td>\n",
       "      <td>2.745422e-03</td>\n",
       "      <td>0.015152</td>\n",
       "    </tr>\n",
       "    <tr>\n",
       "      <th>15</th>\n",
       "      <td>DecisionTreeRegressor(max_depth=16, random_sta...</td>\n",
       "      <td>16</td>\n",
       "      <td>1.874676e-03</td>\n",
       "      <td>0.015125</td>\n",
       "    </tr>\n",
       "    <tr>\n",
       "      <th>16</th>\n",
       "      <td>DecisionTreeRegressor(max_depth=17, random_sta...</td>\n",
       "      <td>17</td>\n",
       "      <td>1.267580e-03</td>\n",
       "      <td>0.015831</td>\n",
       "    </tr>\n",
       "    <tr>\n",
       "      <th>17</th>\n",
       "      <td>DecisionTreeRegressor(max_depth=18, random_sta...</td>\n",
       "      <td>18</td>\n",
       "      <td>8.297241e-04</td>\n",
       "      <td>0.016504</td>\n",
       "    </tr>\n",
       "    <tr>\n",
       "      <th>18</th>\n",
       "      <td>DecisionTreeRegressor(max_depth=19, random_sta...</td>\n",
       "      <td>19</td>\n",
       "      <td>5.169916e-04</td>\n",
       "      <td>0.016678</td>\n",
       "    </tr>\n",
       "    <tr>\n",
       "      <th>19</th>\n",
       "      <td>DecisionTreeRegressor(max_depth=20, random_sta...</td>\n",
       "      <td>20</td>\n",
       "      <td>3.096841e-04</td>\n",
       "      <td>0.016711</td>\n",
       "    </tr>\n",
       "    <tr>\n",
       "      <th>20</th>\n",
       "      <td>DecisionTreeRegressor(max_depth=21, random_sta...</td>\n",
       "      <td>21</td>\n",
       "      <td>1.843008e-04</td>\n",
       "      <td>0.016978</td>\n",
       "    </tr>\n",
       "    <tr>\n",
       "      <th>21</th>\n",
       "      <td>DecisionTreeRegressor(max_depth=22, random_sta...</td>\n",
       "      <td>22</td>\n",
       "      <td>1.052457e-04</td>\n",
       "      <td>0.016978</td>\n",
       "    </tr>\n",
       "    <tr>\n",
       "      <th>22</th>\n",
       "      <td>DecisionTreeRegressor(max_depth=23, random_sta...</td>\n",
       "      <td>23</td>\n",
       "      <td>6.106651e-05</td>\n",
       "      <td>0.016855</td>\n",
       "    </tr>\n",
       "    <tr>\n",
       "      <th>23</th>\n",
       "      <td>DecisionTreeRegressor(max_depth=24, random_sta...</td>\n",
       "      <td>24</td>\n",
       "      <td>3.125326e-05</td>\n",
       "      <td>0.016874</td>\n",
       "    </tr>\n",
       "    <tr>\n",
       "      <th>24</th>\n",
       "      <td>DecisionTreeRegressor(max_depth=25, random_sta...</td>\n",
       "      <td>25</td>\n",
       "      <td>1.568716e-05</td>\n",
       "      <td>0.016886</td>\n",
       "    </tr>\n",
       "    <tr>\n",
       "      <th>25</th>\n",
       "      <td>DecisionTreeRegressor(max_depth=26, random_sta...</td>\n",
       "      <td>26</td>\n",
       "      <td>7.125518e-06</td>\n",
       "      <td>0.017001</td>\n",
       "    </tr>\n",
       "    <tr>\n",
       "      <th>26</th>\n",
       "      <td>DecisionTreeRegressor(max_depth=27, random_sta...</td>\n",
       "      <td>27</td>\n",
       "      <td>3.033740e-06</td>\n",
       "      <td>0.017078</td>\n",
       "    </tr>\n",
       "    <tr>\n",
       "      <th>27</th>\n",
       "      <td>DecisionTreeRegressor(max_depth=28, random_sta...</td>\n",
       "      <td>28</td>\n",
       "      <td>1.235762e-06</td>\n",
       "      <td>0.017017</td>\n",
       "    </tr>\n",
       "    <tr>\n",
       "      <th>28</th>\n",
       "      <td>DecisionTreeRegressor(max_depth=29, random_sta...</td>\n",
       "      <td>29</td>\n",
       "      <td>7.934413e-07</td>\n",
       "      <td>0.016788</td>\n",
       "    </tr>\n",
       "  </tbody>\n",
       "</table>\n",
       "</div>"
      ],
      "text/plain": [
       "                                                model  depth   train_error  \\\n",
       "0   DecisionTreeRegressor(max_depth=1, random_stat...      1  2.836509e-01   \n",
       "1   DecisionTreeRegressor(max_depth=2, random_stat...      2  1.241126e-01   \n",
       "2   DecisionTreeRegressor(max_depth=3, random_stat...      3  7.349940e-02   \n",
       "3   DecisionTreeRegressor(max_depth=4, random_stat...      4  5.324591e-02   \n",
       "4   DecisionTreeRegressor(max_depth=5, random_stat...      5  3.937477e-02   \n",
       "5   DecisionTreeRegressor(max_depth=6, random_stat...      6  2.844959e-02   \n",
       "6   DecisionTreeRegressor(max_depth=7, random_stat...      7  2.126514e-02   \n",
       "7   DecisionTreeRegressor(max_depth=8, random_stat...      8  1.696827e-02   \n",
       "8   DecisionTreeRegressor(max_depth=9, random_stat...      9  1.366796e-02   \n",
       "9   DecisionTreeRegressor(max_depth=10, random_sta...     10  1.091660e-02   \n",
       "10  DecisionTreeRegressor(max_depth=11, random_sta...     11  8.730166e-03   \n",
       "11  DecisionTreeRegressor(max_depth=12, random_sta...     12  6.881212e-03   \n",
       "12  DecisionTreeRegressor(max_depth=13, random_sta...     13  5.205193e-03   \n",
       "13  DecisionTreeRegressor(max_depth=14, random_sta...     14  3.854634e-03   \n",
       "14  DecisionTreeRegressor(max_depth=15, random_sta...     15  2.745422e-03   \n",
       "15  DecisionTreeRegressor(max_depth=16, random_sta...     16  1.874676e-03   \n",
       "16  DecisionTreeRegressor(max_depth=17, random_sta...     17  1.267580e-03   \n",
       "17  DecisionTreeRegressor(max_depth=18, random_sta...     18  8.297241e-04   \n",
       "18  DecisionTreeRegressor(max_depth=19, random_sta...     19  5.169916e-04   \n",
       "19  DecisionTreeRegressor(max_depth=20, random_sta...     20  3.096841e-04   \n",
       "20  DecisionTreeRegressor(max_depth=21, random_sta...     21  1.843008e-04   \n",
       "21  DecisionTreeRegressor(max_depth=22, random_sta...     22  1.052457e-04   \n",
       "22  DecisionTreeRegressor(max_depth=23, random_sta...     23  6.106651e-05   \n",
       "23  DecisionTreeRegressor(max_depth=24, random_sta...     24  3.125326e-05   \n",
       "24  DecisionTreeRegressor(max_depth=25, random_sta...     25  1.568716e-05   \n",
       "25  DecisionTreeRegressor(max_depth=26, random_sta...     26  7.125518e-06   \n",
       "26  DecisionTreeRegressor(max_depth=27, random_sta...     27  3.033740e-06   \n",
       "27  DecisionTreeRegressor(max_depth=28, random_sta...     28  1.235762e-06   \n",
       "28  DecisionTreeRegressor(max_depth=29, random_sta...     29  7.934413e-07   \n",
       "\n",
       "    test_error  \n",
       "0     0.288411  \n",
       "1     0.124528  \n",
       "2     0.072930  \n",
       "3     0.053636  \n",
       "4     0.039973  \n",
       "5     0.029545  \n",
       "6     0.023429  \n",
       "7     0.019708  \n",
       "8     0.017200  \n",
       "9     0.015632  \n",
       "10    0.014499  \n",
       "11    0.013944  \n",
       "12    0.014294  \n",
       "13    0.014540  \n",
       "14    0.015152  \n",
       "15    0.015125  \n",
       "16    0.015831  \n",
       "17    0.016504  \n",
       "18    0.016678  \n",
       "19    0.016711  \n",
       "20    0.016978  \n",
       "21    0.016978  \n",
       "22    0.016855  \n",
       "23    0.016874  \n",
       "24    0.016886  \n",
       "25    0.017001  \n",
       "26    0.017078  \n",
       "27    0.017017  \n",
       "28    0.016788  "
      ]
     },
     "execution_count": 29,
     "metadata": {},
     "output_type": "execute_result"
    }
   ],
   "source": [
    "results_df"
   ]
  },
  {
   "cell_type": "code",
   "execution_count": 30,
   "id": "f8811f81-03cc-4f10-b2b2-e5ed4169283d",
   "metadata": {},
   "outputs": [
    {
     "data": {
      "text/plain": [
       "0.013943631054637041"
      ]
     },
     "execution_count": 30,
     "metadata": {},
     "output_type": "execute_result"
    }
   ],
   "source": [
    "results_df.test_error.min()\n",
    "# Depth must be 12"
   ]
  },
  {
   "cell_type": "code",
   "execution_count": 31,
   "id": "ee49a320-3ed2-42f3-bf5d-51f939f76ac0",
   "metadata": {},
   "outputs": [],
   "source": [
    "from sklearn.model_selection import GridSearchCV\n",
    "from sklearn.tree import DecisionTreeRegressor"
   ]
  },
  {
   "cell_type": "code",
   "execution_count": 32,
   "id": "03c95318-5293-4627-aaa6-5bc76b9901ef",
   "metadata": {},
   "outputs": [],
   "source": [
    "gs = GridSearchCV(\n",
    "    estimator=DecisionTreeRegressor(),\n",
    "    param_grid={\n",
    "        \"max_depth\": [16,14,15],\n",
    "        \"min_samples_split\": [20, 30, 40],\n",
    "    },\n",
    "    cv=5,\n",
    "    verbose=3,\n",
    "    scoring=\"neg_mean_squared_error\",\n",
    "    return_train_score=True\n",
    ")"
   ]
  },
  {
   "cell_type": "code",
   "execution_count": 33,
   "id": "cbac7729-c844-491d-a498-bb6fc86cbd11",
   "metadata": {},
   "outputs": [
    {
     "name": "stdout",
     "output_type": "stream",
     "text": [
      "Fitting 5 folds for each of 9 candidates, totalling 45 fits\n",
      "[CV 1/5] END max_depth=16, min_samples_split=20;, score=(train=-0.006, test=-0.013) total time=   0.1s\n",
      "[CV 2/5] END max_depth=16, min_samples_split=20;, score=(train=-0.005, test=-0.013) total time=   0.1s\n",
      "[CV 3/5] END max_depth=16, min_samples_split=20;, score=(train=-0.006, test=-0.014) total time=   0.1s\n",
      "[CV 4/5] END max_depth=16, min_samples_split=20;, score=(train=-0.006, test=-0.014) total time=   0.1s\n",
      "[CV 5/5] END max_depth=16, min_samples_split=20;, score=(train=-0.005, test=-0.013) total time=   0.1s\n",
      "[CV 1/5] END max_depth=16, min_samples_split=30;, score=(train=-0.007, test=-0.012) total time=   0.1s\n",
      "[CV 2/5] END max_depth=16, min_samples_split=30;, score=(train=-0.007, test=-0.013) total time=   0.1s\n",
      "[CV 3/5] END max_depth=16, min_samples_split=30;, score=(train=-0.007, test=-0.014) total time=   0.1s\n",
      "[CV 4/5] END max_depth=16, min_samples_split=30;, score=(train=-0.007, test=-0.014) total time=   0.1s\n",
      "[CV 5/5] END max_depth=16, min_samples_split=30;, score=(train=-0.007, test=-0.012) total time=   0.1s\n",
      "[CV 1/5] END max_depth=16, min_samples_split=40;, score=(train=-0.008, test=-0.013) total time=   0.1s\n",
      "[CV 2/5] END max_depth=16, min_samples_split=40;, score=(train=-0.008, test=-0.013) total time=   0.1s\n",
      "[CV 3/5] END max_depth=16, min_samples_split=40;, score=(train=-0.008, test=-0.014) total time=   0.1s\n",
      "[CV 4/5] END max_depth=16, min_samples_split=40;, score=(train=-0.008, test=-0.014) total time=   0.1s\n",
      "[CV 5/5] END max_depth=16, min_samples_split=40;, score=(train=-0.008, test=-0.013) total time=   0.1s\n",
      "[CV 1/5] END max_depth=14, min_samples_split=20;, score=(train=-0.006, test=-0.013) total time=   0.1s\n",
      "[CV 2/5] END max_depth=14, min_samples_split=20;, score=(train=-0.006, test=-0.013) total time=   0.1s\n",
      "[CV 3/5] END max_depth=14, min_samples_split=20;, score=(train=-0.006, test=-0.014) total time=   0.1s\n",
      "[CV 4/5] END max_depth=14, min_samples_split=20;, score=(train=-0.006, test=-0.014) total time=   0.1s\n",
      "[CV 5/5] END max_depth=14, min_samples_split=20;, score=(train=-0.006, test=-0.013) total time=   0.1s\n",
      "[CV 1/5] END max_depth=14, min_samples_split=30;, score=(train=-0.007, test=-0.012) total time=   0.1s\n",
      "[CV 2/5] END max_depth=14, min_samples_split=30;, score=(train=-0.007, test=-0.013) total time=   0.1s\n",
      "[CV 3/5] END max_depth=14, min_samples_split=30;, score=(train=-0.007, test=-0.014) total time=   0.1s\n",
      "[CV 4/5] END max_depth=14, min_samples_split=30;, score=(train=-0.007, test=-0.014) total time=   0.1s\n",
      "[CV 5/5] END max_depth=14, min_samples_split=30;, score=(train=-0.007, test=-0.013) total time=   0.1s\n",
      "[CV 1/5] END max_depth=14, min_samples_split=40;, score=(train=-0.008, test=-0.013) total time=   0.1s\n",
      "[CV 2/5] END max_depth=14, min_samples_split=40;, score=(train=-0.008, test=-0.013) total time=   0.1s\n",
      "[CV 3/5] END max_depth=14, min_samples_split=40;, score=(train=-0.008, test=-0.014) total time=   0.1s\n",
      "[CV 4/5] END max_depth=14, min_samples_split=40;, score=(train=-0.008, test=-0.014) total time=   0.1s\n",
      "[CV 5/5] END max_depth=14, min_samples_split=40;, score=(train=-0.008, test=-0.013) total time=   0.1s\n",
      "[CV 1/5] END max_depth=15, min_samples_split=20;, score=(train=-0.006, test=-0.013) total time=   0.1s\n",
      "[CV 2/5] END max_depth=15, min_samples_split=20;, score=(train=-0.006, test=-0.013) total time=   0.1s\n",
      "[CV 3/5] END max_depth=15, min_samples_split=20;, score=(train=-0.006, test=-0.014) total time=   0.1s\n",
      "[CV 4/5] END max_depth=15, min_samples_split=20;, score=(train=-0.006, test=-0.014) total time=   0.1s\n",
      "[CV 5/5] END max_depth=15, min_samples_split=20;, score=(train=-0.006, test=-0.013) total time=   0.1s\n",
      "[CV 1/5] END max_depth=15, min_samples_split=30;, score=(train=-0.007, test=-0.012) total time=   0.1s\n",
      "[CV 2/5] END max_depth=15, min_samples_split=30;, score=(train=-0.007, test=-0.013) total time=   0.1s\n",
      "[CV 3/5] END max_depth=15, min_samples_split=30;, score=(train=-0.007, test=-0.014) total time=   0.1s\n",
      "[CV 4/5] END max_depth=15, min_samples_split=30;, score=(train=-0.007, test=-0.014) total time=   0.1s\n",
      "[CV 5/5] END max_depth=15, min_samples_split=30;, score=(train=-0.007, test=-0.013) total time=   0.1s\n",
      "[CV 1/5] END max_depth=15, min_samples_split=40;, score=(train=-0.008, test=-0.013) total time=   0.1s\n",
      "[CV 2/5] END max_depth=15, min_samples_split=40;, score=(train=-0.008, test=-0.013) total time=   0.1s\n",
      "[CV 3/5] END max_depth=15, min_samples_split=40;, score=(train=-0.008, test=-0.014) total time=   0.1s\n",
      "[CV 4/5] END max_depth=15, min_samples_split=40;, score=(train=-0.008, test=-0.014) total time=   0.1s\n",
      "[CV 5/5] END max_depth=15, min_samples_split=40;, score=(train=-0.008, test=-0.013) total time=   0.1s\n"
     ]
    },
    {
     "data": {
      "text/plain": [
       "GridSearchCV(cv=5, estimator=DecisionTreeRegressor(),\n",
       "             param_grid={'max_depth': [16, 14, 15],\n",
       "                         'min_samples_split': [20, 30, 40]},\n",
       "             return_train_score=True, scoring='neg_mean_squared_error',\n",
       "             verbose=3)"
      ]
     },
     "execution_count": 33,
     "metadata": {},
     "output_type": "execute_result"
    }
   ],
   "source": [
    "gs.fit(X_train, y_train)"
   ]
  },
  {
   "cell_type": "code",
   "execution_count": 34,
   "id": "c8e32672-7048-46f2-b775-b72194ed9929",
   "metadata": {},
   "outputs": [],
   "source": [
    "grid_search_results = pd.DataFrame(gs.cv_results_)\n",
    "# we only keep some of the information\n",
    "grid_search_results = grid_search_results[['param_max_depth', 'param_min_samples_split',\n",
    "       'mean_test_score', 'mean_train_score']]"
   ]
  },
  {
   "cell_type": "code",
   "execution_count": 35,
   "id": "880b8db3-35cb-4cdb-bcf1-5fdf238c4870",
   "metadata": {},
   "outputs": [
    {
     "data": {
      "text/html": [
       "<div>\n",
       "<style scoped>\n",
       "    .dataframe tbody tr th:only-of-type {\n",
       "        vertical-align: middle;\n",
       "    }\n",
       "\n",
       "    .dataframe tbody tr th {\n",
       "        vertical-align: top;\n",
       "    }\n",
       "\n",
       "    .dataframe thead th {\n",
       "        text-align: right;\n",
       "    }\n",
       "</style>\n",
       "<table border=\"1\" class=\"dataframe\">\n",
       "  <thead>\n",
       "    <tr style=\"text-align: right;\">\n",
       "      <th></th>\n",
       "      <th>param_max_depth</th>\n",
       "      <th>param_min_samples_split</th>\n",
       "      <th>mean_test_score</th>\n",
       "      <th>mean_train_score</th>\n",
       "    </tr>\n",
       "  </thead>\n",
       "  <tbody>\n",
       "    <tr>\n",
       "      <th>1</th>\n",
       "      <td>16</td>\n",
       "      <td>30</td>\n",
       "      <td>-0.013138</td>\n",
       "      <td>-0.006854</td>\n",
       "    </tr>\n",
       "    <tr>\n",
       "      <th>3</th>\n",
       "      <td>14</td>\n",
       "      <td>20</td>\n",
       "      <td>-0.013233</td>\n",
       "      <td>-0.006154</td>\n",
       "    </tr>\n",
       "    <tr>\n",
       "      <th>7</th>\n",
       "      <td>15</td>\n",
       "      <td>30</td>\n",
       "      <td>-0.013280</td>\n",
       "      <td>-0.007010</td>\n",
       "    </tr>\n",
       "    <tr>\n",
       "      <th>4</th>\n",
       "      <td>14</td>\n",
       "      <td>30</td>\n",
       "      <td>-0.013295</td>\n",
       "      <td>-0.007282</td>\n",
       "    </tr>\n",
       "    <tr>\n",
       "      <th>6</th>\n",
       "      <td>15</td>\n",
       "      <td>20</td>\n",
       "      <td>-0.013429</td>\n",
       "      <td>-0.005726</td>\n",
       "    </tr>\n",
       "    <tr>\n",
       "      <th>8</th>\n",
       "      <td>15</td>\n",
       "      <td>40</td>\n",
       "      <td>-0.013442</td>\n",
       "      <td>-0.008075</td>\n",
       "    </tr>\n",
       "    <tr>\n",
       "      <th>2</th>\n",
       "      <td>16</td>\n",
       "      <td>40</td>\n",
       "      <td>-0.013462</td>\n",
       "      <td>-0.007982</td>\n",
       "    </tr>\n",
       "    <tr>\n",
       "      <th>0</th>\n",
       "      <td>16</td>\n",
       "      <td>20</td>\n",
       "      <td>-0.013480</td>\n",
       "      <td>-0.005475</td>\n",
       "    </tr>\n",
       "    <tr>\n",
       "      <th>5</th>\n",
       "      <td>14</td>\n",
       "      <td>40</td>\n",
       "      <td>-0.013529</td>\n",
       "      <td>-0.008254</td>\n",
       "    </tr>\n",
       "  </tbody>\n",
       "</table>\n",
       "</div>"
      ],
      "text/plain": [
       "  param_max_depth param_min_samples_split  mean_test_score  mean_train_score\n",
       "1              16                      30        -0.013138         -0.006854\n",
       "3              14                      20        -0.013233         -0.006154\n",
       "7              15                      30        -0.013280         -0.007010\n",
       "4              14                      30        -0.013295         -0.007282\n",
       "6              15                      20        -0.013429         -0.005726\n",
       "8              15                      40        -0.013442         -0.008075\n",
       "2              16                      40        -0.013462         -0.007982\n",
       "0              16                      20        -0.013480         -0.005475\n",
       "5              14                      40        -0.013529         -0.008254"
      ]
     },
     "execution_count": 35,
     "metadata": {},
     "output_type": "execute_result"
    }
   ],
   "source": [
    "grid_search_results.sort_values(\"mean_test_score\", ascending=False)"
   ]
  },
  {
   "cell_type": "code",
   "execution_count": 36,
   "id": "8ebba826-33a2-4a91-8f3b-c3e65f0c7cf7",
   "metadata": {},
   "outputs": [],
   "source": [
    "gs1 = GridSearchCV(\n",
    "    estimator=DecisionTreeRegressor(),\n",
    "    param_grid={\n",
    "        \"max_depth\": [16,14,15],\n",
    "        \"min_samples_split\": [35, 30, 25],\n",
    "    },\n",
    "    cv=5,\n",
    "    verbose=3,\n",
    "    scoring=\"neg_mean_squared_error\",\n",
    "    return_train_score=True\n",
    ")"
   ]
  },
  {
   "cell_type": "code",
   "execution_count": 37,
   "id": "3d8b7b64-a1c4-44ee-a441-ca22042b9978",
   "metadata": {},
   "outputs": [
    {
     "name": "stdout",
     "output_type": "stream",
     "text": [
      "Fitting 5 folds for each of 9 candidates, totalling 45 fits\n",
      "[CV 1/5] END max_depth=16, min_samples_split=35;, score=(train=-0.007, test=-0.012) total time=   0.1s\n",
      "[CV 2/5] END max_depth=16, min_samples_split=35;, score=(train=-0.007, test=-0.013) total time=   0.1s\n",
      "[CV 3/5] END max_depth=16, min_samples_split=35;, score=(train=-0.007, test=-0.014) total time=   0.1s\n",
      "[CV 4/5] END max_depth=16, min_samples_split=35;, score=(train=-0.008, test=-0.014) total time=   0.1s\n",
      "[CV 5/5] END max_depth=16, min_samples_split=35;, score=(train=-0.007, test=-0.013) total time=   0.1s\n",
      "[CV 1/5] END max_depth=16, min_samples_split=30;, score=(train=-0.007, test=-0.013) total time=   0.1s\n",
      "[CV 2/5] END max_depth=16, min_samples_split=30;, score=(train=-0.007, test=-0.013) total time=   0.1s\n",
      "[CV 3/5] END max_depth=16, min_samples_split=30;, score=(train=-0.007, test=-0.014) total time=   0.1s\n",
      "[CV 4/5] END max_depth=16, min_samples_split=30;, score=(train=-0.007, test=-0.014) total time=   0.1s\n",
      "[CV 5/5] END max_depth=16, min_samples_split=30;, score=(train=-0.007, test=-0.013) total time=   0.1s\n",
      "[CV 1/5] END max_depth=16, min_samples_split=25;, score=(train=-0.006, test=-0.013) total time=   0.1s\n",
      "[CV 2/5] END max_depth=16, min_samples_split=25;, score=(train=-0.006, test=-0.013) total time=   0.1s\n",
      "[CV 3/5] END max_depth=16, min_samples_split=25;, score=(train=-0.006, test=-0.014) total time=   0.1s\n",
      "[CV 4/5] END max_depth=16, min_samples_split=25;, score=(train=-0.006, test=-0.014) total time=   0.1s\n",
      "[CV 5/5] END max_depth=16, min_samples_split=25;, score=(train=-0.006, test=-0.013) total time=   0.1s\n",
      "[CV 1/5] END max_depth=14, min_samples_split=35;, score=(train=-0.008, test=-0.013) total time=   0.1s\n",
      "[CV 2/5] END max_depth=14, min_samples_split=35;, score=(train=-0.008, test=-0.013) total time=   0.1s\n",
      "[CV 3/5] END max_depth=14, min_samples_split=35;, score=(train=-0.008, test=-0.014) total time=   0.1s\n",
      "[CV 4/5] END max_depth=14, min_samples_split=35;, score=(train=-0.008, test=-0.014) total time=   0.1s\n",
      "[CV 5/5] END max_depth=14, min_samples_split=35;, score=(train=-0.008, test=-0.012) total time=   0.1s\n",
      "[CV 1/5] END max_depth=14, min_samples_split=30;, score=(train=-0.007, test=-0.013) total time=   0.1s\n",
      "[CV 2/5] END max_depth=14, min_samples_split=30;, score=(train=-0.007, test=-0.013) total time=   0.1s\n",
      "[CV 3/5] END max_depth=14, min_samples_split=30;, score=(train=-0.007, test=-0.014) total time=   0.1s\n",
      "[CV 4/5] END max_depth=14, min_samples_split=30;, score=(train=-0.007, test=-0.014) total time=   0.1s\n",
      "[CV 5/5] END max_depth=14, min_samples_split=30;, score=(train=-0.007, test=-0.012) total time=   0.1s\n",
      "[CV 1/5] END max_depth=14, min_samples_split=25;, score=(train=-0.007, test=-0.013) total time=   0.1s\n",
      "[CV 2/5] END max_depth=14, min_samples_split=25;, score=(train=-0.007, test=-0.013) total time=   0.1s\n",
      "[CV 3/5] END max_depth=14, min_samples_split=25;, score=(train=-0.007, test=-0.014) total time=   0.1s\n",
      "[CV 4/5] END max_depth=14, min_samples_split=25;, score=(train=-0.007, test=-0.014) total time=   0.1s\n",
      "[CV 5/5] END max_depth=14, min_samples_split=25;, score=(train=-0.007, test=-0.013) total time=   0.1s\n",
      "[CV 1/5] END max_depth=15, min_samples_split=35;, score=(train=-0.008, test=-0.012) total time=   0.1s\n",
      "[CV 2/5] END max_depth=15, min_samples_split=35;, score=(train=-0.007, test=-0.013) total time=   0.1s\n",
      "[CV 3/5] END max_depth=15, min_samples_split=35;, score=(train=-0.007, test=-0.014) total time=   0.1s\n",
      "[CV 4/5] END max_depth=15, min_samples_split=35;, score=(train=-0.008, test=-0.014) total time=   0.1s\n",
      "[CV 5/5] END max_depth=15, min_samples_split=35;, score=(train=-0.008, test=-0.013) total time=   0.1s\n",
      "[CV 1/5] END max_depth=15, min_samples_split=30;, score=(train=-0.007, test=-0.012) total time=   0.1s\n",
      "[CV 2/5] END max_depth=15, min_samples_split=30;, score=(train=-0.007, test=-0.013) total time=   0.1s\n",
      "[CV 3/5] END max_depth=15, min_samples_split=30;, score=(train=-0.007, test=-0.014) total time=   0.1s\n",
      "[CV 4/5] END max_depth=15, min_samples_split=30;, score=(train=-0.007, test=-0.014) total time=   0.1s\n",
      "[CV 5/5] END max_depth=15, min_samples_split=30;, score=(train=-0.007, test=-0.013) total time=   0.1s\n",
      "[CV 1/5] END max_depth=15, min_samples_split=25;, score=(train=-0.006, test=-0.012) total time=   0.1s\n",
      "[CV 2/5] END max_depth=15, min_samples_split=25;, score=(train=-0.006, test=-0.013) total time=   0.1s\n",
      "[CV 3/5] END max_depth=15, min_samples_split=25;, score=(train=-0.006, test=-0.013) total time=   0.1s\n",
      "[CV 4/5] END max_depth=15, min_samples_split=25;, score=(train=-0.006, test=-0.014) total time=   0.1s\n",
      "[CV 5/5] END max_depth=15, min_samples_split=25;, score=(train=-0.006, test=-0.013) total time=   0.1s\n"
     ]
    },
    {
     "data": {
      "text/plain": [
       "GridSearchCV(cv=5, estimator=DecisionTreeRegressor(),\n",
       "             param_grid={'max_depth': [16, 14, 15],\n",
       "                         'min_samples_split': [35, 30, 25]},\n",
       "             return_train_score=True, scoring='neg_mean_squared_error',\n",
       "             verbose=3)"
      ]
     },
     "execution_count": 37,
     "metadata": {},
     "output_type": "execute_result"
    }
   ],
   "source": [
    "gs1.fit(X_train, y_train)"
   ]
  },
  {
   "cell_type": "code",
   "execution_count": 38,
   "id": "33e17aeb-28fa-4302-98c0-555a1890e33f",
   "metadata": {},
   "outputs": [],
   "source": [
    "grid_search_results = pd.DataFrame(gs1.cv_results_)\n",
    "# we only keep some of the information\n",
    "grid_search_results = grid_search_results[['param_max_depth', 'param_min_samples_split',\n",
    "       'mean_test_score', 'mean_train_score']]"
   ]
  },
  {
   "cell_type": "code",
   "execution_count": 39,
   "id": "fa63a7bc-6040-4165-99a1-889945445c4b",
   "metadata": {},
   "outputs": [
    {
     "data": {
      "text/html": [
       "<div>\n",
       "<style scoped>\n",
       "    .dataframe tbody tr th:only-of-type {\n",
       "        vertical-align: middle;\n",
       "    }\n",
       "\n",
       "    .dataframe tbody tr th {\n",
       "        vertical-align: top;\n",
       "    }\n",
       "\n",
       "    .dataframe thead th {\n",
       "        text-align: right;\n",
       "    }\n",
       "</style>\n",
       "<table border=\"1\" class=\"dataframe\">\n",
       "  <thead>\n",
       "    <tr style=\"text-align: right;\">\n",
       "      <th></th>\n",
       "      <th>param_max_depth</th>\n",
       "      <th>param_min_samples_split</th>\n",
       "      <th>mean_test_score</th>\n",
       "      <th>mean_train_score</th>\n",
       "    </tr>\n",
       "  </thead>\n",
       "  <tbody>\n",
       "    <tr>\n",
       "      <th>4</th>\n",
       "      <td>14</td>\n",
       "      <td>30</td>\n",
       "      <td>-0.013136</td>\n",
       "      <td>-0.007282</td>\n",
       "    </tr>\n",
       "    <tr>\n",
       "      <th>3</th>\n",
       "      <td>14</td>\n",
       "      <td>35</td>\n",
       "      <td>-0.013211</td>\n",
       "      <td>-0.007753</td>\n",
       "    </tr>\n",
       "    <tr>\n",
       "      <th>8</th>\n",
       "      <td>15</td>\n",
       "      <td>25</td>\n",
       "      <td>-0.013219</td>\n",
       "      <td>-0.006400</td>\n",
       "    </tr>\n",
       "    <tr>\n",
       "      <th>1</th>\n",
       "      <td>16</td>\n",
       "      <td>30</td>\n",
       "      <td>-0.013290</td>\n",
       "      <td>-0.006854</td>\n",
       "    </tr>\n",
       "    <tr>\n",
       "      <th>0</th>\n",
       "      <td>16</td>\n",
       "      <td>35</td>\n",
       "      <td>-0.013301</td>\n",
       "      <td>-0.007408</td>\n",
       "    </tr>\n",
       "    <tr>\n",
       "      <th>7</th>\n",
       "      <td>15</td>\n",
       "      <td>30</td>\n",
       "      <td>-0.013304</td>\n",
       "      <td>-0.007010</td>\n",
       "    </tr>\n",
       "    <tr>\n",
       "      <th>6</th>\n",
       "      <td>15</td>\n",
       "      <td>35</td>\n",
       "      <td>-0.013307</td>\n",
       "      <td>-0.007530</td>\n",
       "    </tr>\n",
       "    <tr>\n",
       "      <th>2</th>\n",
       "      <td>16</td>\n",
       "      <td>25</td>\n",
       "      <td>-0.013313</td>\n",
       "      <td>-0.006206</td>\n",
       "    </tr>\n",
       "    <tr>\n",
       "      <th>5</th>\n",
       "      <td>14</td>\n",
       "      <td>25</td>\n",
       "      <td>-0.013347</td>\n",
       "      <td>-0.006744</td>\n",
       "    </tr>\n",
       "  </tbody>\n",
       "</table>\n",
       "</div>"
      ],
      "text/plain": [
       "  param_max_depth param_min_samples_split  mean_test_score  mean_train_score\n",
       "4              14                      30        -0.013136         -0.007282\n",
       "3              14                      35        -0.013211         -0.007753\n",
       "8              15                      25        -0.013219         -0.006400\n",
       "1              16                      30        -0.013290         -0.006854\n",
       "0              16                      35        -0.013301         -0.007408\n",
       "7              15                      30        -0.013304         -0.007010\n",
       "6              15                      35        -0.013307         -0.007530\n",
       "2              16                      25        -0.013313         -0.006206\n",
       "5              14                      25        -0.013347         -0.006744"
      ]
     },
     "execution_count": 39,
     "metadata": {},
     "output_type": "execute_result"
    }
   ],
   "source": [
    "grid_search_results.sort_values(\"mean_test_score\", ascending=False)"
   ]
  },
  {
   "cell_type": "code",
   "execution_count": 40,
   "id": "ca98aee9-dd77-43e7-88d8-3f2a238c7dc3",
   "metadata": {},
   "outputs": [],
   "source": [
    "gs2 = GridSearchCV(\n",
    "    estimator=DecisionTreeRegressor(),\n",
    "    param_grid={\n",
    "        \"max_depth\": [16,17,15],\n",
    "        \"min_samples_split\": [35, 38, 32],\n",
    "    },\n",
    "    cv=5,\n",
    "    verbose=3,\n",
    "    scoring=\"neg_mean_squared_error\",\n",
    "    return_train_score=True\n",
    ")"
   ]
  },
  {
   "cell_type": "code",
   "execution_count": 41,
   "id": "c2b13561-0342-4d66-b5ff-c19e4a18bb18",
   "metadata": {},
   "outputs": [
    {
     "name": "stdout",
     "output_type": "stream",
     "text": [
      "Fitting 5 folds for each of 9 candidates, totalling 45 fits\n",
      "[CV 1/5] END max_depth=16, min_samples_split=35;, score=(train=-0.007, test=-0.012) total time=   0.1s\n",
      "[CV 2/5] END max_depth=16, min_samples_split=35;, score=(train=-0.007, test=-0.013) total time=   0.1s\n",
      "[CV 3/5] END max_depth=16, min_samples_split=35;, score=(train=-0.007, test=-0.014) total time=   0.1s\n",
      "[CV 4/5] END max_depth=16, min_samples_split=35;, score=(train=-0.008, test=-0.014) total time=   0.1s\n",
      "[CV 5/5] END max_depth=16, min_samples_split=35;, score=(train=-0.007, test=-0.013) total time=   0.1s\n",
      "[CV 1/5] END max_depth=16, min_samples_split=38;, score=(train=-0.008, test=-0.013) total time=   0.1s\n",
      "[CV 2/5] END max_depth=16, min_samples_split=38;, score=(train=-0.008, test=-0.013) total time=   0.1s\n",
      "[CV 3/5] END max_depth=16, min_samples_split=38;, score=(train=-0.008, test=-0.014) total time=   0.1s\n",
      "[CV 4/5] END max_depth=16, min_samples_split=38;, score=(train=-0.008, test=-0.014) total time=   0.1s\n",
      "[CV 5/5] END max_depth=16, min_samples_split=38;, score=(train=-0.008, test=-0.013) total time=   0.1s\n",
      "[CV 1/5] END max_depth=16, min_samples_split=32;, score=(train=-0.007, test=-0.012) total time=   0.1s\n",
      "[CV 2/5] END max_depth=16, min_samples_split=32;, score=(train=-0.007, test=-0.013) total time=   0.1s\n",
      "[CV 3/5] END max_depth=16, min_samples_split=32;, score=(train=-0.007, test=-0.014) total time=   0.1s\n",
      "[CV 4/5] END max_depth=16, min_samples_split=32;, score=(train=-0.007, test=-0.014) total time=   0.1s\n",
      "[CV 5/5] END max_depth=16, min_samples_split=32;, score=(train=-0.007, test=-0.013) total time=   0.1s\n",
      "[CV 1/5] END max_depth=17, min_samples_split=35;, score=(train=-0.007, test=-0.013) total time=   0.1s\n",
      "[CV 2/5] END max_depth=17, min_samples_split=35;, score=(train=-0.007, test=-0.013) total time=   0.1s\n",
      "[CV 3/5] END max_depth=17, min_samples_split=35;, score=(train=-0.007, test=-0.014) total time=   0.1s\n",
      "[CV 4/5] END max_depth=17, min_samples_split=35;, score=(train=-0.007, test=-0.014) total time=   0.1s\n",
      "[CV 5/5] END max_depth=17, min_samples_split=35;, score=(train=-0.007, test=-0.013) total time=   0.1s\n",
      "[CV 1/5] END max_depth=17, min_samples_split=38;, score=(train=-0.008, test=-0.013) total time=   0.1s\n",
      "[CV 2/5] END max_depth=17, min_samples_split=38;, score=(train=-0.008, test=-0.013) total time=   0.1s\n",
      "[CV 3/5] END max_depth=17, min_samples_split=38;, score=(train=-0.008, test=-0.014) total time=   0.1s\n",
      "[CV 4/5] END max_depth=17, min_samples_split=38;, score=(train=-0.008, test=-0.014) total time=   0.1s\n",
      "[CV 5/5] END max_depth=17, min_samples_split=38;, score=(train=-0.008, test=-0.013) total time=   0.1s\n",
      "[CV 1/5] END max_depth=17, min_samples_split=32;, score=(train=-0.007, test=-0.012) total time=   0.1s\n",
      "[CV 2/5] END max_depth=17, min_samples_split=32;, score=(train=-0.007, test=-0.013) total time=   0.1s\n",
      "[CV 3/5] END max_depth=17, min_samples_split=32;, score=(train=-0.007, test=-0.014) total time=   0.1s\n",
      "[CV 4/5] END max_depth=17, min_samples_split=32;, score=(train=-0.007, test=-0.014) total time=   0.1s\n",
      "[CV 5/5] END max_depth=17, min_samples_split=32;, score=(train=-0.007, test=-0.013) total time=   0.1s\n",
      "[CV 1/5] END max_depth=15, min_samples_split=35;, score=(train=-0.008, test=-0.012) total time=   0.1s\n",
      "[CV 2/5] END max_depth=15, min_samples_split=35;, score=(train=-0.007, test=-0.013) total time=   0.1s\n",
      "[CV 3/5] END max_depth=15, min_samples_split=35;, score=(train=-0.007, test=-0.014) total time=   0.1s\n",
      "[CV 4/5] END max_depth=15, min_samples_split=35;, score=(train=-0.008, test=-0.014) total time=   0.1s\n",
      "[CV 5/5] END max_depth=15, min_samples_split=35;, score=(train=-0.008, test=-0.013) total time=   0.1s\n",
      "[CV 1/5] END max_depth=15, min_samples_split=38;, score=(train=-0.008, test=-0.013) total time=   0.1s\n",
      "[CV 2/5] END max_depth=15, min_samples_split=38;, score=(train=-0.008, test=-0.013) total time=   0.1s\n",
      "[CV 3/5] END max_depth=15, min_samples_split=38;, score=(train=-0.008, test=-0.014) total time=   0.1s\n",
      "[CV 4/5] END max_depth=15, min_samples_split=38;, score=(train=-0.008, test=-0.014) total time=   0.1s\n",
      "[CV 5/5] END max_depth=15, min_samples_split=38;, score=(train=-0.008, test=-0.013) total time=   0.1s\n",
      "[CV 1/5] END max_depth=15, min_samples_split=32;, score=(train=-0.007, test=-0.012) total time=   0.1s\n",
      "[CV 2/5] END max_depth=15, min_samples_split=32;, score=(train=-0.007, test=-0.013) total time=   0.1s\n",
      "[CV 3/5] END max_depth=15, min_samples_split=32;, score=(train=-0.007, test=-0.014) total time=   0.1s\n",
      "[CV 4/5] END max_depth=15, min_samples_split=32;, score=(train=-0.007, test=-0.014) total time=   0.1s\n",
      "[CV 5/5] END max_depth=15, min_samples_split=32;, score=(train=-0.007, test=-0.013) total time=   0.1s\n"
     ]
    },
    {
     "data": {
      "text/plain": [
       "GridSearchCV(cv=5, estimator=DecisionTreeRegressor(),\n",
       "             param_grid={'max_depth': [16, 17, 15],\n",
       "                         'min_samples_split': [35, 38, 32]},\n",
       "             return_train_score=True, scoring='neg_mean_squared_error',\n",
       "             verbose=3)"
      ]
     },
     "execution_count": 41,
     "metadata": {},
     "output_type": "execute_result"
    }
   ],
   "source": [
    "gs2.fit(X_train, y_train)"
   ]
  },
  {
   "cell_type": "code",
   "execution_count": 42,
   "id": "d51f560f-287b-46a1-860f-5d1c51c817be",
   "metadata": {},
   "outputs": [],
   "source": [
    "grid_search_results = pd.DataFrame(gs2.cv_results_)\n",
    "# we only keep some of the information\n",
    "grid_search_results = grid_search_results[['param_max_depth', 'param_min_samples_split',\n",
    "       'mean_test_score', 'mean_train_score']]"
   ]
  },
  {
   "cell_type": "code",
   "execution_count": 43,
   "id": "9e13ddd3-e1f9-48cc-a6bd-6748411e4f93",
   "metadata": {},
   "outputs": [
    {
     "data": {
      "text/html": [
       "<div>\n",
       "<style scoped>\n",
       "    .dataframe tbody tr th:only-of-type {\n",
       "        vertical-align: middle;\n",
       "    }\n",
       "\n",
       "    .dataframe tbody tr th {\n",
       "        vertical-align: top;\n",
       "    }\n",
       "\n",
       "    .dataframe thead th {\n",
       "        text-align: right;\n",
       "    }\n",
       "</style>\n",
       "<table border=\"1\" class=\"dataframe\">\n",
       "  <thead>\n",
       "    <tr style=\"text-align: right;\">\n",
       "      <th></th>\n",
       "      <th>param_max_depth</th>\n",
       "      <th>param_min_samples_split</th>\n",
       "      <th>mean_test_score</th>\n",
       "      <th>mean_train_score</th>\n",
       "    </tr>\n",
       "  </thead>\n",
       "  <tbody>\n",
       "    <tr>\n",
       "      <th>2</th>\n",
       "      <td>16</td>\n",
       "      <td>32</td>\n",
       "      <td>-0.013209</td>\n",
       "      <td>-0.007071</td>\n",
       "    </tr>\n",
       "    <tr>\n",
       "      <th>8</th>\n",
       "      <td>15</td>\n",
       "      <td>32</td>\n",
       "      <td>-0.013232</td>\n",
       "      <td>-0.007214</td>\n",
       "    </tr>\n",
       "    <tr>\n",
       "      <th>0</th>\n",
       "      <td>16</td>\n",
       "      <td>35</td>\n",
       "      <td>-0.013279</td>\n",
       "      <td>-0.007408</td>\n",
       "    </tr>\n",
       "    <tr>\n",
       "      <th>6</th>\n",
       "      <td>15</td>\n",
       "      <td>35</td>\n",
       "      <td>-0.013318</td>\n",
       "      <td>-0.007530</td>\n",
       "    </tr>\n",
       "    <tr>\n",
       "      <th>5</th>\n",
       "      <td>17</td>\n",
       "      <td>32</td>\n",
       "      <td>-0.013352</td>\n",
       "      <td>-0.007015</td>\n",
       "    </tr>\n",
       "    <tr>\n",
       "      <th>1</th>\n",
       "      <td>16</td>\n",
       "      <td>38</td>\n",
       "      <td>-0.013414</td>\n",
       "      <td>-0.007775</td>\n",
       "    </tr>\n",
       "    <tr>\n",
       "      <th>3</th>\n",
       "      <td>17</td>\n",
       "      <td>35</td>\n",
       "      <td>-0.013416</td>\n",
       "      <td>-0.007361</td>\n",
       "    </tr>\n",
       "    <tr>\n",
       "      <th>7</th>\n",
       "      <td>15</td>\n",
       "      <td>38</td>\n",
       "      <td>-0.013425</td>\n",
       "      <td>-0.007876</td>\n",
       "    </tr>\n",
       "    <tr>\n",
       "      <th>4</th>\n",
       "      <td>17</td>\n",
       "      <td>38</td>\n",
       "      <td>-0.013430</td>\n",
       "      <td>-0.007734</td>\n",
       "    </tr>\n",
       "  </tbody>\n",
       "</table>\n",
       "</div>"
      ],
      "text/plain": [
       "  param_max_depth param_min_samples_split  mean_test_score  mean_train_score\n",
       "2              16                      32        -0.013209         -0.007071\n",
       "8              15                      32        -0.013232         -0.007214\n",
       "0              16                      35        -0.013279         -0.007408\n",
       "6              15                      35        -0.013318         -0.007530\n",
       "5              17                      32        -0.013352         -0.007015\n",
       "1              16                      38        -0.013414         -0.007775\n",
       "3              17                      35        -0.013416         -0.007361\n",
       "7              15                      38        -0.013425         -0.007876\n",
       "4              17                      38        -0.013430         -0.007734"
      ]
     },
     "execution_count": 43,
     "metadata": {},
     "output_type": "execute_result"
    }
   ],
   "source": [
    "grid_search_results.sort_values(\"mean_test_score\", ascending=False)"
   ]
  },
  {
   "cell_type": "code",
   "execution_count": 44,
   "id": "0bc6b7c7-10a5-499a-89ce-eff91e2b75c7",
   "metadata": {},
   "outputs": [],
   "source": [
    "gs3 = GridSearchCV(\n",
    "    estimator=DecisionTreeRegressor(),\n",
    "    param_grid={\n",
    "        \"max_depth\": [16,17,15],\n",
    "        \"min_samples_split\": [32, 34, 30],\n",
    "    },\n",
    "    cv=5,\n",
    "    verbose=3,\n",
    "    scoring=\"neg_mean_squared_error\",\n",
    "    return_train_score=True\n",
    ")"
   ]
  },
  {
   "cell_type": "code",
   "execution_count": 45,
   "id": "24ada45c-045b-4186-80f2-f0604c36b4b7",
   "metadata": {},
   "outputs": [
    {
     "name": "stdout",
     "output_type": "stream",
     "text": [
      "Fitting 5 folds for each of 9 candidates, totalling 45 fits\n",
      "[CV 1/5] END max_depth=16, min_samples_split=32;, score=(train=-0.007, test=-0.012) total time=   0.1s\n",
      "[CV 2/5] END max_depth=16, min_samples_split=32;, score=(train=-0.007, test=-0.013) total time=   0.1s\n",
      "[CV 3/5] END max_depth=16, min_samples_split=32;, score=(train=-0.007, test=-0.014) total time=   0.1s\n",
      "[CV 4/5] END max_depth=16, min_samples_split=32;, score=(train=-0.007, test=-0.014) total time=   0.1s\n",
      "[CV 5/5] END max_depth=16, min_samples_split=32;, score=(train=-0.007, test=-0.013) total time=   0.1s\n",
      "[CV 1/5] END max_depth=16, min_samples_split=34;, score=(train=-0.007, test=-0.012) total time=   0.1s\n",
      "[CV 2/5] END max_depth=16, min_samples_split=34;, score=(train=-0.007, test=-0.013) total time=   0.1s\n",
      "[CV 3/5] END max_depth=16, min_samples_split=34;, score=(train=-0.007, test=-0.014) total time=   0.1s\n",
      "[CV 4/5] END max_depth=16, min_samples_split=34;, score=(train=-0.007, test=-0.014) total time=   0.1s\n",
      "[CV 5/5] END max_depth=16, min_samples_split=34;, score=(train=-0.007, test=-0.013) total time=   0.1s\n",
      "[CV 1/5] END max_depth=16, min_samples_split=30;, score=(train=-0.007, test=-0.012) total time=   0.1s\n",
      "[CV 2/5] END max_depth=16, min_samples_split=30;, score=(train=-0.007, test=-0.013) total time=   0.1s\n",
      "[CV 3/5] END max_depth=16, min_samples_split=30;, score=(train=-0.007, test=-0.014) total time=   0.1s\n",
      "[CV 4/5] END max_depth=16, min_samples_split=30;, score=(train=-0.007, test=-0.014) total time=   0.1s\n",
      "[CV 5/5] END max_depth=16, min_samples_split=30;, score=(train=-0.007, test=-0.012) total time=   0.1s\n",
      "[CV 1/5] END max_depth=17, min_samples_split=32;, score=(train=-0.007, test=-0.012) total time=   0.1s\n",
      "[CV 2/5] END max_depth=17, min_samples_split=32;, score=(train=-0.007, test=-0.013) total time=   0.1s\n",
      "[CV 3/5] END max_depth=17, min_samples_split=32;, score=(train=-0.007, test=-0.014) total time=   0.1s\n",
      "[CV 4/5] END max_depth=17, min_samples_split=32;, score=(train=-0.007, test=-0.014) total time=   0.1s\n",
      "[CV 5/5] END max_depth=17, min_samples_split=32;, score=(train=-0.007, test=-0.013) total time=   0.1s\n",
      "[CV 1/5] END max_depth=17, min_samples_split=34;, score=(train=-0.007, test=-0.012) total time=   0.1s\n",
      "[CV 2/5] END max_depth=17, min_samples_split=34;, score=(train=-0.007, test=-0.013) total time=   0.1s\n",
      "[CV 3/5] END max_depth=17, min_samples_split=34;, score=(train=-0.007, test=-0.014) total time=   0.1s\n",
      "[CV 4/5] END max_depth=17, min_samples_split=34;, score=(train=-0.007, test=-0.014) total time=   0.1s\n",
      "[CV 5/5] END max_depth=17, min_samples_split=34;, score=(train=-0.007, test=-0.013) total time=   0.1s\n",
      "[CV 1/5] END max_depth=17, min_samples_split=30;, score=(train=-0.007, test=-0.012) total time=   0.1s\n",
      "[CV 2/5] END max_depth=17, min_samples_split=30;, score=(train=-0.007, test=-0.013) total time=   0.1s\n",
      "[CV 3/5] END max_depth=17, min_samples_split=30;, score=(train=-0.007, test=-0.014) total time=   0.1s\n",
      "[CV 4/5] END max_depth=17, min_samples_split=30;, score=(train=-0.007, test=-0.014) total time=   0.1s\n",
      "[CV 5/5] END max_depth=17, min_samples_split=30;, score=(train=-0.007, test=-0.013) total time=   0.1s\n",
      "[CV 1/5] END max_depth=15, min_samples_split=32;, score=(train=-0.007, test=-0.012) total time=   0.1s\n",
      "[CV 2/5] END max_depth=15, min_samples_split=32;, score=(train=-0.007, test=-0.013) total time=   0.1s\n",
      "[CV 3/5] END max_depth=15, min_samples_split=32;, score=(train=-0.007, test=-0.014) total time=   0.1s\n",
      "[CV 4/5] END max_depth=15, min_samples_split=32;, score=(train=-0.007, test=-0.014) total time=   0.1s\n",
      "[CV 5/5] END max_depth=15, min_samples_split=32;, score=(train=-0.007, test=-0.013) total time=   0.1s\n",
      "[CV 1/5] END max_depth=15, min_samples_split=34;, score=(train=-0.007, test=-0.012) total time=   0.1s\n",
      "[CV 2/5] END max_depth=15, min_samples_split=34;, score=(train=-0.007, test=-0.013) total time=   0.1s\n",
      "[CV 3/5] END max_depth=15, min_samples_split=34;, score=(train=-0.007, test=-0.014) total time=   0.1s\n",
      "[CV 4/5] END max_depth=15, min_samples_split=34;, score=(train=-0.008, test=-0.014) total time=   0.1s\n",
      "[CV 5/5] END max_depth=15, min_samples_split=34;, score=(train=-0.007, test=-0.013) total time=   0.1s\n",
      "[CV 1/5] END max_depth=15, min_samples_split=30;, score=(train=-0.007, test=-0.012) total time=   0.1s\n",
      "[CV 2/5] END max_depth=15, min_samples_split=30;, score=(train=-0.007, test=-0.013) total time=   0.1s\n",
      "[CV 3/5] END max_depth=15, min_samples_split=30;, score=(train=-0.007, test=-0.014) total time=   0.1s\n",
      "[CV 4/5] END max_depth=15, min_samples_split=30;, score=(train=-0.007, test=-0.014) total time=   0.1s\n",
      "[CV 5/5] END max_depth=15, min_samples_split=30;, score=(train=-0.007, test=-0.013) total time=   0.1s\n"
     ]
    },
    {
     "data": {
      "text/plain": [
       "GridSearchCV(cv=5, estimator=DecisionTreeRegressor(),\n",
       "             param_grid={'max_depth': [16, 17, 15],\n",
       "                         'min_samples_split': [32, 34, 30]},\n",
       "             return_train_score=True, scoring='neg_mean_squared_error',\n",
       "             verbose=3)"
      ]
     },
     "execution_count": 45,
     "metadata": {},
     "output_type": "execute_result"
    }
   ],
   "source": [
    "gs3.fit(X_train, y_train)"
   ]
  },
  {
   "cell_type": "code",
   "execution_count": 46,
   "id": "fecd547f-c7f4-4cf9-be75-2e894e15994a",
   "metadata": {},
   "outputs": [],
   "source": [
    "\n",
    "grid_search_results = pd.DataFrame(gs3.cv_results_)\n",
    "# we only keep some of the information\n",
    "grid_search_results = grid_search_results[['param_max_depth', 'param_min_samples_split',\n",
    "       'mean_test_score', 'mean_train_score']]"
   ]
  },
  {
   "cell_type": "code",
   "execution_count": 47,
   "id": "738653cf-45ab-4654-b2d3-f260103a75ad",
   "metadata": {},
   "outputs": [
    {
     "data": {
      "text/html": [
       "<div>\n",
       "<style scoped>\n",
       "    .dataframe tbody tr th:only-of-type {\n",
       "        vertical-align: middle;\n",
       "    }\n",
       "\n",
       "    .dataframe tbody tr th {\n",
       "        vertical-align: top;\n",
       "    }\n",
       "\n",
       "    .dataframe thead th {\n",
       "        text-align: right;\n",
       "    }\n",
       "</style>\n",
       "<table border=\"1\" class=\"dataframe\">\n",
       "  <thead>\n",
       "    <tr style=\"text-align: right;\">\n",
       "      <th></th>\n",
       "      <th>param_max_depth</th>\n",
       "      <th>param_min_samples_split</th>\n",
       "      <th>mean_test_score</th>\n",
       "      <th>mean_train_score</th>\n",
       "    </tr>\n",
       "  </thead>\n",
       "  <tbody>\n",
       "    <tr>\n",
       "      <th>2</th>\n",
       "      <td>16</td>\n",
       "      <td>30</td>\n",
       "      <td>-0.013133</td>\n",
       "      <td>-0.006854</td>\n",
       "    </tr>\n",
       "    <tr>\n",
       "      <th>6</th>\n",
       "      <td>15</td>\n",
       "      <td>32</td>\n",
       "      <td>-0.013276</td>\n",
       "      <td>-0.007214</td>\n",
       "    </tr>\n",
       "    <tr>\n",
       "      <th>8</th>\n",
       "      <td>15</td>\n",
       "      <td>30</td>\n",
       "      <td>-0.013279</td>\n",
       "      <td>-0.007010</td>\n",
       "    </tr>\n",
       "    <tr>\n",
       "      <th>1</th>\n",
       "      <td>16</td>\n",
       "      <td>34</td>\n",
       "      <td>-0.013313</td>\n",
       "      <td>-0.007299</td>\n",
       "    </tr>\n",
       "    <tr>\n",
       "      <th>0</th>\n",
       "      <td>16</td>\n",
       "      <td>32</td>\n",
       "      <td>-0.013316</td>\n",
       "      <td>-0.007071</td>\n",
       "    </tr>\n",
       "    <tr>\n",
       "      <th>5</th>\n",
       "      <td>17</td>\n",
       "      <td>30</td>\n",
       "      <td>-0.013326</td>\n",
       "      <td>-0.006789</td>\n",
       "    </tr>\n",
       "    <tr>\n",
       "      <th>4</th>\n",
       "      <td>17</td>\n",
       "      <td>34</td>\n",
       "      <td>-0.013338</td>\n",
       "      <td>-0.007249</td>\n",
       "    </tr>\n",
       "    <tr>\n",
       "      <th>3</th>\n",
       "      <td>17</td>\n",
       "      <td>32</td>\n",
       "      <td>-0.013345</td>\n",
       "      <td>-0.007015</td>\n",
       "    </tr>\n",
       "    <tr>\n",
       "      <th>7</th>\n",
       "      <td>15</td>\n",
       "      <td>34</td>\n",
       "      <td>-0.013378</td>\n",
       "      <td>-0.007428</td>\n",
       "    </tr>\n",
       "  </tbody>\n",
       "</table>\n",
       "</div>"
      ],
      "text/plain": [
       "  param_max_depth param_min_samples_split  mean_test_score  mean_train_score\n",
       "2              16                      30        -0.013133         -0.006854\n",
       "6              15                      32        -0.013276         -0.007214\n",
       "8              15                      30        -0.013279         -0.007010\n",
       "1              16                      34        -0.013313         -0.007299\n",
       "0              16                      32        -0.013316         -0.007071\n",
       "5              17                      30        -0.013326         -0.006789\n",
       "4              17                      34        -0.013338         -0.007249\n",
       "3              17                      32        -0.013345         -0.007015\n",
       "7              15                      34        -0.013378         -0.007428"
      ]
     },
     "execution_count": 47,
     "metadata": {},
     "output_type": "execute_result"
    }
   ],
   "source": [
    "grid_search_results.sort_values(\"mean_test_score\", ascending=False)"
   ]
  },
  {
   "cell_type": "code",
   "execution_count": null,
   "id": "20853d88-c7e0-47ac-aa94-0563a7db1d7d",
   "metadata": {},
   "outputs": [],
   "source": []
  }
 ],
 "metadata": {
  "kernelspec": {
   "display_name": "ironhack",
   "language": "python",
   "name": "ironhack"
  },
  "language_info": {
   "codemirror_mode": {
    "name": "ipython",
    "version": 3
   },
   "file_extension": ".py",
   "mimetype": "text/x-python",
   "name": "python",
   "nbconvert_exporter": "python",
   "pygments_lexer": "ipython3",
   "version": "3.8.11"
  }
 },
 "nbformat": 4,
 "nbformat_minor": 5
}
