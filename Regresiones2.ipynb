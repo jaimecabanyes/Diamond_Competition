{
 "cells": [
  {
   "cell_type": "code",
   "execution_count": 1,
   "id": "f3a485f2",
   "metadata": {},
   "outputs": [],
   "source": [
    "import pandas as pd\n",
    "import seaborn as sns\n",
    "from sklearn.model_selection import train_test_split\n",
    "from sklearn import preprocessing\n"
   ]
  },
  {
   "cell_type": "code",
   "execution_count": 2,
   "id": "6822a7a7",
   "metadata": {},
   "outputs": [],
   "source": [
    "dtrain = pd.read_csv(\"Data/train.csv\")"
   ]
  },
  {
   "cell_type": "code",
   "execution_count": 3,
   "id": "4c76b4bf",
   "metadata": {},
   "outputs": [
    {
     "data": {
      "text/html": [
       "<div>\n",
       "<style scoped>\n",
       "    .dataframe tbody tr th:only-of-type {\n",
       "        vertical-align: middle;\n",
       "    }\n",
       "\n",
       "    .dataframe tbody tr th {\n",
       "        vertical-align: top;\n",
       "    }\n",
       "\n",
       "    .dataframe thead th {\n",
       "        text-align: right;\n",
       "    }\n",
       "</style>\n",
       "<table border=\"1\" class=\"dataframe\">\n",
       "  <thead>\n",
       "    <tr style=\"text-align: right;\">\n",
       "      <th></th>\n",
       "      <th>id</th>\n",
       "      <th>carat</th>\n",
       "      <th>cut</th>\n",
       "      <th>color</th>\n",
       "      <th>clarity</th>\n",
       "      <th>depth</th>\n",
       "      <th>table</th>\n",
       "      <th>x</th>\n",
       "      <th>y</th>\n",
       "      <th>z</th>\n",
       "      <th>price</th>\n",
       "    </tr>\n",
       "  </thead>\n",
       "  <tbody>\n",
       "    <tr>\n",
       "      <th>0</th>\n",
       "      <td>0</td>\n",
       "      <td>0.30</td>\n",
       "      <td>Premium</td>\n",
       "      <td>D</td>\n",
       "      <td>SI2</td>\n",
       "      <td>62.4</td>\n",
       "      <td>58.0</td>\n",
       "      <td>4.31</td>\n",
       "      <td>4.28</td>\n",
       "      <td>2.68</td>\n",
       "      <td>6.353</td>\n",
       "    </tr>\n",
       "    <tr>\n",
       "      <th>1</th>\n",
       "      <td>1</td>\n",
       "      <td>1.01</td>\n",
       "      <td>Ideal</td>\n",
       "      <td>E</td>\n",
       "      <td>VVS2</td>\n",
       "      <td>62.7</td>\n",
       "      <td>56.0</td>\n",
       "      <td>6.42</td>\n",
       "      <td>6.46</td>\n",
       "      <td>4.04</td>\n",
       "      <td>9.183</td>\n",
       "    </tr>\n",
       "    <tr>\n",
       "      <th>2</th>\n",
       "      <td>2</td>\n",
       "      <td>0.72</td>\n",
       "      <td>Ideal</td>\n",
       "      <td>F</td>\n",
       "      <td>VS2</td>\n",
       "      <td>61.8</td>\n",
       "      <td>59.0</td>\n",
       "      <td>5.71</td>\n",
       "      <td>5.74</td>\n",
       "      <td>3.54</td>\n",
       "      <td>7.983</td>\n",
       "    </tr>\n",
       "    <tr>\n",
       "      <th>3</th>\n",
       "      <td>3</td>\n",
       "      <td>1.08</td>\n",
       "      <td>Very Good</td>\n",
       "      <td>G</td>\n",
       "      <td>SI2</td>\n",
       "      <td>63.2</td>\n",
       "      <td>57.0</td>\n",
       "      <td>6.54</td>\n",
       "      <td>6.50</td>\n",
       "      <td>4.12</td>\n",
       "      <td>8.371</td>\n",
       "    </tr>\n",
       "    <tr>\n",
       "      <th>4</th>\n",
       "      <td>4</td>\n",
       "      <td>0.36</td>\n",
       "      <td>Premium</td>\n",
       "      <td>G</td>\n",
       "      <td>VS1</td>\n",
       "      <td>62.3</td>\n",
       "      <td>59.0</td>\n",
       "      <td>4.50</td>\n",
       "      <td>4.55</td>\n",
       "      <td>2.82</td>\n",
       "      <td>6.588</td>\n",
       "    </tr>\n",
       "    <tr>\n",
       "      <th>...</th>\n",
       "      <td>...</td>\n",
       "      <td>...</td>\n",
       "      <td>...</td>\n",
       "      <td>...</td>\n",
       "      <td>...</td>\n",
       "      <td>...</td>\n",
       "      <td>...</td>\n",
       "      <td>...</td>\n",
       "      <td>...</td>\n",
       "      <td>...</td>\n",
       "      <td>...</td>\n",
       "    </tr>\n",
       "    <tr>\n",
       "      <th>40450</th>\n",
       "      <td>40450</td>\n",
       "      <td>0.42</td>\n",
       "      <td>Premium</td>\n",
       "      <td>D</td>\n",
       "      <td>SI2</td>\n",
       "      <td>62.1</td>\n",
       "      <td>59.0</td>\n",
       "      <td>4.78</td>\n",
       "      <td>4.82</td>\n",
       "      <td>2.98</td>\n",
       "      <td>6.551</td>\n",
       "    </tr>\n",
       "    <tr>\n",
       "      <th>40451</th>\n",
       "      <td>40451</td>\n",
       "      <td>0.53</td>\n",
       "      <td>Premium</td>\n",
       "      <td>G</td>\n",
       "      <td>VS2</td>\n",
       "      <td>62.0</td>\n",
       "      <td>58.0</td>\n",
       "      <td>5.21</td>\n",
       "      <td>5.18</td>\n",
       "      <td>3.22</td>\n",
       "      <td>7.382</td>\n",
       "    </tr>\n",
       "    <tr>\n",
       "      <th>40452</th>\n",
       "      <td>40452</td>\n",
       "      <td>0.80</td>\n",
       "      <td>Good</td>\n",
       "      <td>G</td>\n",
       "      <td>SI2</td>\n",
       "      <td>62.8</td>\n",
       "      <td>58.0</td>\n",
       "      <td>5.86</td>\n",
       "      <td>5.90</td>\n",
       "      <td>3.69</td>\n",
       "      <td>7.768</td>\n",
       "    </tr>\n",
       "    <tr>\n",
       "      <th>40453</th>\n",
       "      <td>40453</td>\n",
       "      <td>1.01</td>\n",
       "      <td>Very Good</td>\n",
       "      <td>F</td>\n",
       "      <td>VS2</td>\n",
       "      <td>61.5</td>\n",
       "      <td>57.0</td>\n",
       "      <td>6.40</td>\n",
       "      <td>6.48</td>\n",
       "      <td>3.96</td>\n",
       "      <td>8.726</td>\n",
       "    </tr>\n",
       "    <tr>\n",
       "      <th>40454</th>\n",
       "      <td>40454</td>\n",
       "      <td>1.30</td>\n",
       "      <td>Premium</td>\n",
       "      <td>I</td>\n",
       "      <td>VS2</td>\n",
       "      <td>60.1</td>\n",
       "      <td>58.0</td>\n",
       "      <td>7.10</td>\n",
       "      <td>7.14</td>\n",
       "      <td>4.28</td>\n",
       "      <td>8.771</td>\n",
       "    </tr>\n",
       "  </tbody>\n",
       "</table>\n",
       "<p>40455 rows × 11 columns</p>\n",
       "</div>"
      ],
      "text/plain": [
       "          id  carat        cut color clarity  depth  table     x     y     z  \\\n",
       "0          0   0.30    Premium     D     SI2   62.4   58.0  4.31  4.28  2.68   \n",
       "1          1   1.01      Ideal     E    VVS2   62.7   56.0  6.42  6.46  4.04   \n",
       "2          2   0.72      Ideal     F     VS2   61.8   59.0  5.71  5.74  3.54   \n",
       "3          3   1.08  Very Good     G     SI2   63.2   57.0  6.54  6.50  4.12   \n",
       "4          4   0.36    Premium     G     VS1   62.3   59.0  4.50  4.55  2.82   \n",
       "...      ...    ...        ...   ...     ...    ...    ...   ...   ...   ...   \n",
       "40450  40450   0.42    Premium     D     SI2   62.1   59.0  4.78  4.82  2.98   \n",
       "40451  40451   0.53    Premium     G     VS2   62.0   58.0  5.21  5.18  3.22   \n",
       "40452  40452   0.80       Good     G     SI2   62.8   58.0  5.86  5.90  3.69   \n",
       "40453  40453   1.01  Very Good     F     VS2   61.5   57.0  6.40  6.48  3.96   \n",
       "40454  40454   1.30    Premium     I     VS2   60.1   58.0  7.10  7.14  4.28   \n",
       "\n",
       "       price  \n",
       "0      6.353  \n",
       "1      9.183  \n",
       "2      7.983  \n",
       "3      8.371  \n",
       "4      6.588  \n",
       "...      ...  \n",
       "40450  6.551  \n",
       "40451  7.382  \n",
       "40452  7.768  \n",
       "40453  8.726  \n",
       "40454  8.771  \n",
       "\n",
       "[40455 rows x 11 columns]"
      ]
     },
     "execution_count": 3,
     "metadata": {},
     "output_type": "execute_result"
    }
   ],
   "source": [
    "dtrain"
   ]
  },
  {
   "cell_type": "code",
   "execution_count": 4,
   "id": "743f3f2c",
   "metadata": {},
   "outputs": [],
   "source": [
    "le = preprocessing.LabelEncoder()\n",
    "# Categorizamos todas las variables de clase"
   ]
  },
  {
   "cell_type": "code",
   "execution_count": 5,
   "id": "2f617f43",
   "metadata": {},
   "outputs": [],
   "source": [
    "dtrain.cut = le.fit_transform(dtrain[\"cut\"])"
   ]
  },
  {
   "cell_type": "code",
   "execution_count": 6,
   "id": "8e042e0d",
   "metadata": {},
   "outputs": [],
   "source": [
    "dtrain.color = le.fit_transform(dtrain[\"color\"])"
   ]
  },
  {
   "cell_type": "code",
   "execution_count": 7,
   "id": "73961a90",
   "metadata": {},
   "outputs": [],
   "source": [
    "dtrain.clarity = le.fit_transform(dtrain[\"clarity\"])"
   ]
  },
  {
   "cell_type": "code",
   "execution_count": 8,
   "id": "b57948d9",
   "metadata": {},
   "outputs": [
    {
     "data": {
      "text/html": [
       "<div>\n",
       "<style scoped>\n",
       "    .dataframe tbody tr th:only-of-type {\n",
       "        vertical-align: middle;\n",
       "    }\n",
       "\n",
       "    .dataframe tbody tr th {\n",
       "        vertical-align: top;\n",
       "    }\n",
       "\n",
       "    .dataframe thead th {\n",
       "        text-align: right;\n",
       "    }\n",
       "</style>\n",
       "<table border=\"1\" class=\"dataframe\">\n",
       "  <thead>\n",
       "    <tr style=\"text-align: right;\">\n",
       "      <th></th>\n",
       "      <th>id</th>\n",
       "      <th>carat</th>\n",
       "      <th>cut</th>\n",
       "      <th>color</th>\n",
       "      <th>clarity</th>\n",
       "      <th>depth</th>\n",
       "      <th>table</th>\n",
       "      <th>x</th>\n",
       "      <th>y</th>\n",
       "      <th>z</th>\n",
       "      <th>price</th>\n",
       "    </tr>\n",
       "  </thead>\n",
       "  <tbody>\n",
       "    <tr>\n",
       "      <th>0</th>\n",
       "      <td>0</td>\n",
       "      <td>0.30</td>\n",
       "      <td>3</td>\n",
       "      <td>0</td>\n",
       "      <td>3</td>\n",
       "      <td>62.4</td>\n",
       "      <td>58.0</td>\n",
       "      <td>4.31</td>\n",
       "      <td>4.28</td>\n",
       "      <td>2.68</td>\n",
       "      <td>6.353</td>\n",
       "    </tr>\n",
       "    <tr>\n",
       "      <th>1</th>\n",
       "      <td>1</td>\n",
       "      <td>1.01</td>\n",
       "      <td>2</td>\n",
       "      <td>1</td>\n",
       "      <td>7</td>\n",
       "      <td>62.7</td>\n",
       "      <td>56.0</td>\n",
       "      <td>6.42</td>\n",
       "      <td>6.46</td>\n",
       "      <td>4.04</td>\n",
       "      <td>9.183</td>\n",
       "    </tr>\n",
       "    <tr>\n",
       "      <th>2</th>\n",
       "      <td>2</td>\n",
       "      <td>0.72</td>\n",
       "      <td>2</td>\n",
       "      <td>2</td>\n",
       "      <td>5</td>\n",
       "      <td>61.8</td>\n",
       "      <td>59.0</td>\n",
       "      <td>5.71</td>\n",
       "      <td>5.74</td>\n",
       "      <td>3.54</td>\n",
       "      <td>7.983</td>\n",
       "    </tr>\n",
       "    <tr>\n",
       "      <th>3</th>\n",
       "      <td>3</td>\n",
       "      <td>1.08</td>\n",
       "      <td>4</td>\n",
       "      <td>3</td>\n",
       "      <td>3</td>\n",
       "      <td>63.2</td>\n",
       "      <td>57.0</td>\n",
       "      <td>6.54</td>\n",
       "      <td>6.50</td>\n",
       "      <td>4.12</td>\n",
       "      <td>8.371</td>\n",
       "    </tr>\n",
       "    <tr>\n",
       "      <th>4</th>\n",
       "      <td>4</td>\n",
       "      <td>0.36</td>\n",
       "      <td>3</td>\n",
       "      <td>3</td>\n",
       "      <td>4</td>\n",
       "      <td>62.3</td>\n",
       "      <td>59.0</td>\n",
       "      <td>4.50</td>\n",
       "      <td>4.55</td>\n",
       "      <td>2.82</td>\n",
       "      <td>6.588</td>\n",
       "    </tr>\n",
       "  </tbody>\n",
       "</table>\n",
       "</div>"
      ],
      "text/plain": [
       "   id  carat  cut  color  clarity  depth  table     x     y     z  price\n",
       "0   0   0.30    3      0        3   62.4   58.0  4.31  4.28  2.68  6.353\n",
       "1   1   1.01    2      1        7   62.7   56.0  6.42  6.46  4.04  9.183\n",
       "2   2   0.72    2      2        5   61.8   59.0  5.71  5.74  3.54  7.983\n",
       "3   3   1.08    4      3        3   63.2   57.0  6.54  6.50  4.12  8.371\n",
       "4   4   0.36    3      3        4   62.3   59.0  4.50  4.55  2.82  6.588"
      ]
     },
     "execution_count": 8,
     "metadata": {},
     "output_type": "execute_result"
    }
   ],
   "source": [
    "dtrain.head()"
   ]
  },
  {
   "cell_type": "code",
   "execution_count": 9,
   "id": "754bb504",
   "metadata": {},
   "outputs": [],
   "source": [
    "dtrain.drop(['id'], axis=1, inplace=True)\n"
   ]
  },
  {
   "cell_type": "code",
   "execution_count": 10,
   "id": "628c8053",
   "metadata": {},
   "outputs": [
    {
     "data": {
      "text/html": [
       "<div>\n",
       "<style scoped>\n",
       "    .dataframe tbody tr th:only-of-type {\n",
       "        vertical-align: middle;\n",
       "    }\n",
       "\n",
       "    .dataframe tbody tr th {\n",
       "        vertical-align: top;\n",
       "    }\n",
       "\n",
       "    .dataframe thead th {\n",
       "        text-align: right;\n",
       "    }\n",
       "</style>\n",
       "<table border=\"1\" class=\"dataframe\">\n",
       "  <thead>\n",
       "    <tr style=\"text-align: right;\">\n",
       "      <th></th>\n",
       "      <th>carat</th>\n",
       "      <th>cut</th>\n",
       "      <th>color</th>\n",
       "      <th>clarity</th>\n",
       "      <th>depth</th>\n",
       "      <th>table</th>\n",
       "      <th>x</th>\n",
       "      <th>y</th>\n",
       "      <th>z</th>\n",
       "      <th>price</th>\n",
       "    </tr>\n",
       "  </thead>\n",
       "  <tbody>\n",
       "    <tr>\n",
       "      <th>0</th>\n",
       "      <td>0.30</td>\n",
       "      <td>3</td>\n",
       "      <td>0</td>\n",
       "      <td>3</td>\n",
       "      <td>62.4</td>\n",
       "      <td>58.0</td>\n",
       "      <td>4.31</td>\n",
       "      <td>4.28</td>\n",
       "      <td>2.68</td>\n",
       "      <td>6.353</td>\n",
       "    </tr>\n",
       "    <tr>\n",
       "      <th>1</th>\n",
       "      <td>1.01</td>\n",
       "      <td>2</td>\n",
       "      <td>1</td>\n",
       "      <td>7</td>\n",
       "      <td>62.7</td>\n",
       "      <td>56.0</td>\n",
       "      <td>6.42</td>\n",
       "      <td>6.46</td>\n",
       "      <td>4.04</td>\n",
       "      <td>9.183</td>\n",
       "    </tr>\n",
       "    <tr>\n",
       "      <th>2</th>\n",
       "      <td>0.72</td>\n",
       "      <td>2</td>\n",
       "      <td>2</td>\n",
       "      <td>5</td>\n",
       "      <td>61.8</td>\n",
       "      <td>59.0</td>\n",
       "      <td>5.71</td>\n",
       "      <td>5.74</td>\n",
       "      <td>3.54</td>\n",
       "      <td>7.983</td>\n",
       "    </tr>\n",
       "    <tr>\n",
       "      <th>3</th>\n",
       "      <td>1.08</td>\n",
       "      <td>4</td>\n",
       "      <td>3</td>\n",
       "      <td>3</td>\n",
       "      <td>63.2</td>\n",
       "      <td>57.0</td>\n",
       "      <td>6.54</td>\n",
       "      <td>6.50</td>\n",
       "      <td>4.12</td>\n",
       "      <td>8.371</td>\n",
       "    </tr>\n",
       "    <tr>\n",
       "      <th>4</th>\n",
       "      <td>0.36</td>\n",
       "      <td>3</td>\n",
       "      <td>3</td>\n",
       "      <td>4</td>\n",
       "      <td>62.3</td>\n",
       "      <td>59.0</td>\n",
       "      <td>4.50</td>\n",
       "      <td>4.55</td>\n",
       "      <td>2.82</td>\n",
       "      <td>6.588</td>\n",
       "    </tr>\n",
       "    <tr>\n",
       "      <th>...</th>\n",
       "      <td>...</td>\n",
       "      <td>...</td>\n",
       "      <td>...</td>\n",
       "      <td>...</td>\n",
       "      <td>...</td>\n",
       "      <td>...</td>\n",
       "      <td>...</td>\n",
       "      <td>...</td>\n",
       "      <td>...</td>\n",
       "      <td>...</td>\n",
       "    </tr>\n",
       "    <tr>\n",
       "      <th>40450</th>\n",
       "      <td>0.42</td>\n",
       "      <td>3</td>\n",
       "      <td>0</td>\n",
       "      <td>3</td>\n",
       "      <td>62.1</td>\n",
       "      <td>59.0</td>\n",
       "      <td>4.78</td>\n",
       "      <td>4.82</td>\n",
       "      <td>2.98</td>\n",
       "      <td>6.551</td>\n",
       "    </tr>\n",
       "    <tr>\n",
       "      <th>40451</th>\n",
       "      <td>0.53</td>\n",
       "      <td>3</td>\n",
       "      <td>3</td>\n",
       "      <td>5</td>\n",
       "      <td>62.0</td>\n",
       "      <td>58.0</td>\n",
       "      <td>5.21</td>\n",
       "      <td>5.18</td>\n",
       "      <td>3.22</td>\n",
       "      <td>7.382</td>\n",
       "    </tr>\n",
       "    <tr>\n",
       "      <th>40452</th>\n",
       "      <td>0.80</td>\n",
       "      <td>1</td>\n",
       "      <td>3</td>\n",
       "      <td>3</td>\n",
       "      <td>62.8</td>\n",
       "      <td>58.0</td>\n",
       "      <td>5.86</td>\n",
       "      <td>5.90</td>\n",
       "      <td>3.69</td>\n",
       "      <td>7.768</td>\n",
       "    </tr>\n",
       "    <tr>\n",
       "      <th>40453</th>\n",
       "      <td>1.01</td>\n",
       "      <td>4</td>\n",
       "      <td>2</td>\n",
       "      <td>5</td>\n",
       "      <td>61.5</td>\n",
       "      <td>57.0</td>\n",
       "      <td>6.40</td>\n",
       "      <td>6.48</td>\n",
       "      <td>3.96</td>\n",
       "      <td>8.726</td>\n",
       "    </tr>\n",
       "    <tr>\n",
       "      <th>40454</th>\n",
       "      <td>1.30</td>\n",
       "      <td>3</td>\n",
       "      <td>5</td>\n",
       "      <td>5</td>\n",
       "      <td>60.1</td>\n",
       "      <td>58.0</td>\n",
       "      <td>7.10</td>\n",
       "      <td>7.14</td>\n",
       "      <td>4.28</td>\n",
       "      <td>8.771</td>\n",
       "    </tr>\n",
       "  </tbody>\n",
       "</table>\n",
       "<p>40455 rows × 10 columns</p>\n",
       "</div>"
      ],
      "text/plain": [
       "       carat  cut  color  clarity  depth  table     x     y     z  price\n",
       "0       0.30    3      0        3   62.4   58.0  4.31  4.28  2.68  6.353\n",
       "1       1.01    2      1        7   62.7   56.0  6.42  6.46  4.04  9.183\n",
       "2       0.72    2      2        5   61.8   59.0  5.71  5.74  3.54  7.983\n",
       "3       1.08    4      3        3   63.2   57.0  6.54  6.50  4.12  8.371\n",
       "4       0.36    3      3        4   62.3   59.0  4.50  4.55  2.82  6.588\n",
       "...      ...  ...    ...      ...    ...    ...   ...   ...   ...    ...\n",
       "40450   0.42    3      0        3   62.1   59.0  4.78  4.82  2.98  6.551\n",
       "40451   0.53    3      3        5   62.0   58.0  5.21  5.18  3.22  7.382\n",
       "40452   0.80    1      3        3   62.8   58.0  5.86  5.90  3.69  7.768\n",
       "40453   1.01    4      2        5   61.5   57.0  6.40  6.48  3.96  8.726\n",
       "40454   1.30    3      5        5   60.1   58.0  7.10  7.14  4.28  8.771\n",
       "\n",
       "[40455 rows x 10 columns]"
      ]
     },
     "execution_count": 10,
     "metadata": {},
     "output_type": "execute_result"
    }
   ],
   "source": [
    "dtrain"
   ]
  },
  {
   "cell_type": "code",
   "execution_count": 11,
   "id": "a66d9077",
   "metadata": {},
   "outputs": [],
   "source": [
    "X = dtrain.drop(\"price\", axis=1)\n",
    "y = dtrain.price\n",
    "#determinamos x e y "
   ]
  },
  {
   "cell_type": "code",
   "execution_count": null,
   "id": "d9d60d85",
   "metadata": {},
   "outputs": [],
   "source": []
  },
  {
   "cell_type": "code",
   "execution_count": 12,
   "id": "5d3655a3",
   "metadata": {},
   "outputs": [],
   "source": [
    "X_train, X_test, y_train, y_test = train_test_split(X,y, test_size= 0.15, random_state = None)\n",
    "# le damos un test size de 15%"
   ]
  },
  {
   "cell_type": "code",
   "execution_count": 13,
   "id": "d8d64159",
   "metadata": {},
   "outputs": [],
   "source": [
    "from sklearn.linear_model import LinearRegression\n",
    "from sklearn.tree import DecisionTreeRegressor\n",
    "from sklearn.ensemble import RandomForestRegressor\n",
    "from sklearn.metrics import mean_squared_error as mse"
   ]
  },
  {
   "cell_type": "code",
   "execution_count": 14,
   "id": "9a987b5c",
   "metadata": {},
   "outputs": [
    {
     "data": {
      "text/plain": [
       "LinearRegression()"
      ]
     },
     "execution_count": 14,
     "metadata": {},
     "output_type": "execute_result"
    }
   ],
   "source": [
    "linreg = LinearRegression()\n",
    "linreg.fit(X_train, y_train)\n",
    "#hacemos una linear regression"
   ]
  },
  {
   "cell_type": "code",
   "execution_count": 15,
   "id": "a14b0e50",
   "metadata": {},
   "outputs": [],
   "source": [
    "y_pred = linreg.predict(X_test)"
   ]
  },
  {
   "cell_type": "code",
   "execution_count": 16,
   "id": "a5163cc3",
   "metadata": {},
   "outputs": [
    {
     "data": {
      "text/plain": [
       "0.04949134206472372"
      ]
     },
     "execution_count": 16,
     "metadata": {},
     "output_type": "execute_result"
    }
   ],
   "source": [
    "mse(y_pred, y_test)\n",
    "#vemos el mean square error"
   ]
  },
  {
   "cell_type": "code",
   "execution_count": 17,
   "id": "8b87e854",
   "metadata": {},
   "outputs": [],
   "source": [
    "ree = DecisionTreeRegressor(max_depth=14, min_samples_split=30)\n",
    "#hacemos un decision tree regression"
   ]
  },
  {
   "cell_type": "code",
   "execution_count": 18,
   "id": "d734c22c",
   "metadata": {},
   "outputs": [
    {
     "data": {
      "text/plain": [
       "DecisionTreeRegressor(max_depth=14, min_samples_split=30)"
      ]
     },
     "execution_count": 18,
     "metadata": {},
     "output_type": "execute_result"
    }
   ],
   "source": [
    "ree.fit(X_train, y_train)"
   ]
  },
  {
   "cell_type": "code",
   "execution_count": 19,
   "id": "20180cb4",
   "metadata": {},
   "outputs": [
    {
     "data": {
      "text/plain": [
       "0.012422742483069035"
      ]
     },
     "execution_count": 19,
     "metadata": {},
     "output_type": "execute_result"
    }
   ],
   "source": [
    "mse(y_test, ree.predict(X_test))\n",
    "#vemos el mean square error"
   ]
  },
  {
   "cell_type": "code",
   "execution_count": 20,
   "id": "8ec59539",
   "metadata": {},
   "outputs": [
    {
     "data": {
      "text/plain": [
       "RandomForestRegressor(max_depth=10, max_features=7, min_samples_split=30,\n",
       "                      n_estimators=30)"
      ]
     },
     "execution_count": 20,
     "metadata": {},
     "output_type": "execute_result"
    }
   ],
   "source": [
    "rf = RandomForestRegressor(n_estimators=30, max_features=7, max_depth=10, min_samples_split=30)\n",
    "rf.fit(X_train, y_train)\n",
    "#hacemos un random forest regressor"
   ]
  },
  {
   "cell_type": "code",
   "execution_count": 21,
   "id": "82b0ca46",
   "metadata": {},
   "outputs": [
    {
     "data": {
      "text/plain": [
       "0.012510830855868767"
      ]
     },
     "execution_count": 21,
     "metadata": {},
     "output_type": "execute_result"
    }
   ],
   "source": [
    "mse(y_test, rf.predict(X_test))\n",
    "#vemos el mean square error"
   ]
  },
  {
   "cell_type": "code",
   "execution_count": 22,
   "id": "5efe7150",
   "metadata": {},
   "outputs": [],
   "source": [
    "import numpy as np\n",
    "from sklearn.model_selection import RandomizedSearchCV\n",
    "from sklearn.model_selection import GridSearchCV"
   ]
  },
  {
   "cell_type": "code",
   "execution_count": 44,
   "id": "00204a6c",
   "metadata": {},
   "outputs": [],
   "source": [
    "from hyperopt import fmin, hp, tpe, Trials, space_eval, STATUS_OK\n",
    "from hyperopt.pyll import scope as ho_scope\n",
    "from hyperopt.pyll.stochastic import sample as ho_sample\n",
    "import xgboost as xgb"
   ]
  },
  {
   "cell_type": "code",
   "execution_count": 45,
   "id": "b3fcb537-c287-4ed0-a89b-faf497cae1b1",
   "metadata": {},
   "outputs": [
    {
     "data": {
      "text/plain": [
       "RandomForestRegressor(max_depth=10, max_features=7, min_samples_split=30,\n",
       "                      n_estimators=30)"
      ]
     },
     "execution_count": 45,
     "metadata": {},
     "output_type": "execute_result"
    }
   ],
   "source": [
    "rf = RandomForestRegressor(n_estimators=30, max_features=7, max_depth=10, min_samples_split=30)\n",
    "rf.fit(X_train, y_train)"
   ]
  },
  {
   "cell_type": "code",
   "execution_count": 56,
   "id": "2eb6d486-77c0-4520-a3ac-9fa416d3ed64",
   "metadata": {},
   "outputs": [],
   "source": [
    " gs = GridSearchCV(\n",
    "    estimator=DecisionTreeRegressor(),\n",
    "    param_grid={\n",
    "        \"max_depth\": [15, 17, 16],\n",
    "        \"min_samples_split\": [26, 24, 25],\n",
    "        \"max_features\":[7,8,9]\n",
    "\n",
    "        \n",
    "    },\n",
    "    cv=5,\n",
    "    verbose=3,\n",
    "    scoring=\"neg_mean_squared_error\",\n",
    "    return_train_score=True\n",
    ")"
   ]
  },
  {
   "cell_type": "code",
   "execution_count": 58,
   "id": "59633d2f-c692-472b-9e2c-9a8a6a62f553",
   "metadata": {},
   "outputs": [
    {
     "name": "stdout",
     "output_type": "stream",
     "text": [
      "Fitting 5 folds for each of 27 candidates, totalling 135 fits\n",
      "[CV 1/5] END max_depth=15, max_features=7, min_samples_split=26;, score=(train=-0.008, test=-0.014) total time=   0.1s\n",
      "[CV 2/5] END max_depth=15, max_features=7, min_samples_split=26;, score=(train=-0.007, test=-0.014) total time=   0.1s\n",
      "[CV 3/5] END max_depth=15, max_features=7, min_samples_split=26;, score=(train=-0.008, test=-0.014) total time=   0.1s\n",
      "[CV 4/5] END max_depth=15, max_features=7, min_samples_split=26;, score=(train=-0.007, test=-0.013) total time=   0.1s\n",
      "[CV 5/5] END max_depth=15, max_features=7, min_samples_split=26;, score=(train=-0.007, test=-0.014) total time=   0.1s\n",
      "[CV 1/5] END max_depth=15, max_features=7, min_samples_split=24;, score=(train=-0.007, test=-0.014) total time=   0.1s\n",
      "[CV 2/5] END max_depth=15, max_features=7, min_samples_split=24;, score=(train=-0.007, test=-0.014) total time=   0.1s\n",
      "[CV 3/5] END max_depth=15, max_features=7, min_samples_split=24;, score=(train=-0.007, test=-0.014) total time=   0.1s\n",
      "[CV 4/5] END max_depth=15, max_features=7, min_samples_split=24;, score=(train=-0.007, test=-0.013) total time=   0.1s\n",
      "[CV 5/5] END max_depth=15, max_features=7, min_samples_split=24;, score=(train=-0.007, test=-0.014) total time=   0.1s\n",
      "[CV 1/5] END max_depth=15, max_features=7, min_samples_split=25;, score=(train=-0.007, test=-0.014) total time=   0.1s\n",
      "[CV 2/5] END max_depth=15, max_features=7, min_samples_split=25;, score=(train=-0.007, test=-0.014) total time=   0.1s\n",
      "[CV 3/5] END max_depth=15, max_features=7, min_samples_split=25;, score=(train=-0.007, test=-0.013) total time=   0.1s\n",
      "[CV 4/5] END max_depth=15, max_features=7, min_samples_split=25;, score=(train=-0.007, test=-0.013) total time=   0.1s\n",
      "[CV 5/5] END max_depth=15, max_features=7, min_samples_split=25;, score=(train=-0.007, test=-0.014) total time=   0.1s\n",
      "[CV 1/5] END max_depth=15, max_features=8, min_samples_split=26;, score=(train=-0.007, test=-0.013) total time=   0.1s\n",
      "[CV 2/5] END max_depth=15, max_features=8, min_samples_split=26;, score=(train=-0.007, test=-0.013) total time=   0.1s\n",
      "[CV 3/5] END max_depth=15, max_features=8, min_samples_split=26;, score=(train=-0.007, test=-0.013) total time=   0.1s\n",
      "[CV 4/5] END max_depth=15, max_features=8, min_samples_split=26;, score=(train=-0.007, test=-0.013) total time=   0.1s\n",
      "[CV 5/5] END max_depth=15, max_features=8, min_samples_split=26;, score=(train=-0.007, test=-0.013) total time=   0.1s\n",
      "[CV 1/5] END max_depth=15, max_features=8, min_samples_split=24;, score=(train=-0.007, test=-0.015) total time=   0.1s\n",
      "[CV 2/5] END max_depth=15, max_features=8, min_samples_split=24;, score=(train=-0.007, test=-0.014) total time=   0.1s\n",
      "[CV 3/5] END max_depth=15, max_features=8, min_samples_split=24;, score=(train=-0.007, test=-0.013) total time=   0.1s\n",
      "[CV 4/5] END max_depth=15, max_features=8, min_samples_split=24;, score=(train=-0.007, test=-0.014) total time=   0.1s\n",
      "[CV 5/5] END max_depth=15, max_features=8, min_samples_split=24;, score=(train=-0.007, test=-0.013) total time=   0.1s\n",
      "[CV 1/5] END max_depth=15, max_features=8, min_samples_split=25;, score=(train=-0.007, test=-0.014) total time=   0.1s\n",
      "[CV 2/5] END max_depth=15, max_features=8, min_samples_split=25;, score=(train=-0.007, test=-0.013) total time=   0.1s\n",
      "[CV 3/5] END max_depth=15, max_features=8, min_samples_split=25;, score=(train=-0.007, test=-0.013) total time=   0.1s\n",
      "[CV 4/5] END max_depth=15, max_features=8, min_samples_split=25;, score=(train=-0.007, test=-0.013) total time=   0.1s\n",
      "[CV 5/5] END max_depth=15, max_features=8, min_samples_split=25;, score=(train=-0.007, test=-0.013) total time=   0.1s\n",
      "[CV 1/5] END max_depth=15, max_features=9, min_samples_split=26;, score=(train=-0.007, test=-0.014) total time=   0.1s\n",
      "[CV 2/5] END max_depth=15, max_features=9, min_samples_split=26;, score=(train=-0.007, test=-0.014) total time=   0.1s\n",
      "[CV 3/5] END max_depth=15, max_features=9, min_samples_split=26;, score=(train=-0.007, test=-0.014) total time=   0.1s\n",
      "[CV 4/5] END max_depth=15, max_features=9, min_samples_split=26;, score=(train=-0.007, test=-0.013) total time=   0.1s\n",
      "[CV 5/5] END max_depth=15, max_features=9, min_samples_split=26;, score=(train=-0.007, test=-0.014) total time=   0.1s\n",
      "[CV 1/5] END max_depth=15, max_features=9, min_samples_split=24;, score=(train=-0.007, test=-0.013) total time=   0.1s\n",
      "[CV 2/5] END max_depth=15, max_features=9, min_samples_split=24;, score=(train=-0.007, test=-0.014) total time=   0.1s\n",
      "[CV 3/5] END max_depth=15, max_features=9, min_samples_split=24;, score=(train=-0.007, test=-0.014) total time=   0.1s\n",
      "[CV 4/5] END max_depth=15, max_features=9, min_samples_split=24;, score=(train=-0.007, test=-0.013) total time=   0.1s\n",
      "[CV 5/5] END max_depth=15, max_features=9, min_samples_split=24;, score=(train=-0.007, test=-0.014) total time=   0.1s\n",
      "[CV 1/5] END max_depth=15, max_features=9, min_samples_split=25;, score=(train=-0.007, test=-0.013) total time=   0.1s\n",
      "[CV 2/5] END max_depth=15, max_features=9, min_samples_split=25;, score=(train=-0.007, test=-0.014) total time=   0.1s\n",
      "[CV 3/5] END max_depth=15, max_features=9, min_samples_split=25;, score=(train=-0.007, test=-0.014) total time=   0.1s\n",
      "[CV 4/5] END max_depth=15, max_features=9, min_samples_split=25;, score=(train=-0.007, test=-0.013) total time=   0.1s\n",
      "[CV 5/5] END max_depth=15, max_features=9, min_samples_split=25;, score=(train=-0.007, test=-0.014) total time=   0.1s\n",
      "[CV 1/5] END max_depth=17, max_features=7, min_samples_split=26;, score=(train=-0.007, test=-0.014) total time=   0.1s\n",
      "[CV 2/5] END max_depth=17, max_features=7, min_samples_split=26;, score=(train=-0.007, test=-0.013) total time=   0.1s\n",
      "[CV 3/5] END max_depth=17, max_features=7, min_samples_split=26;, score=(train=-0.007, test=-0.014) total time=   0.1s\n",
      "[CV 4/5] END max_depth=17, max_features=7, min_samples_split=26;, score=(train=-0.007, test=-0.014) total time=   0.1s\n",
      "[CV 5/5] END max_depth=17, max_features=7, min_samples_split=26;, score=(train=-0.007, test=-0.014) total time=   0.1s\n",
      "[CV 1/5] END max_depth=17, max_features=7, min_samples_split=24;, score=(train=-0.007, test=-0.017) total time=   0.1s\n",
      "[CV 2/5] END max_depth=17, max_features=7, min_samples_split=24;, score=(train=-0.007, test=-0.016) total time=   0.1s\n",
      "[CV 3/5] END max_depth=17, max_features=7, min_samples_split=24;, score=(train=-0.007, test=-0.014) total time=   0.1s\n",
      "[CV 4/5] END max_depth=17, max_features=7, min_samples_split=24;, score=(train=-0.007, test=-0.013) total time=   0.1s\n",
      "[CV 5/5] END max_depth=17, max_features=7, min_samples_split=24;, score=(train=-0.007, test=-0.014) total time=   0.1s\n",
      "[CV 1/5] END max_depth=17, max_features=7, min_samples_split=25;, score=(train=-0.007, test=-0.014) total time=   0.1s\n",
      "[CV 2/5] END max_depth=17, max_features=7, min_samples_split=25;, score=(train=-0.007, test=-0.015) total time=   0.1s\n",
      "[CV 3/5] END max_depth=17, max_features=7, min_samples_split=25;, score=(train=-0.007, test=-0.013) total time=   0.1s\n",
      "[CV 4/5] END max_depth=17, max_features=7, min_samples_split=25;, score=(train=-0.007, test=-0.014) total time=   0.1s\n",
      "[CV 5/5] END max_depth=17, max_features=7, min_samples_split=25;, score=(train=-0.007, test=-0.013) total time=   0.1s\n",
      "[CV 1/5] END max_depth=17, max_features=8, min_samples_split=26;, score=(train=-0.007, test=-0.014) total time=   0.1s\n",
      "[CV 2/5] END max_depth=17, max_features=8, min_samples_split=26;, score=(train=-0.007, test=-0.014) total time=   0.1s\n",
      "[CV 3/5] END max_depth=17, max_features=8, min_samples_split=26;, score=(train=-0.007, test=-0.014) total time=   0.1s\n",
      "[CV 4/5] END max_depth=17, max_features=8, min_samples_split=26;, score=(train=-0.007, test=-0.013) total time=   0.1s\n",
      "[CV 5/5] END max_depth=17, max_features=8, min_samples_split=26;, score=(train=-0.007, test=-0.013) total time=   0.1s\n",
      "[CV 1/5] END max_depth=17, max_features=8, min_samples_split=24;, score=(train=-0.006, test=-0.013) total time=   0.1s\n",
      "[CV 2/5] END max_depth=17, max_features=8, min_samples_split=24;, score=(train=-0.006, test=-0.013) total time=   0.1s\n",
      "[CV 3/5] END max_depth=17, max_features=8, min_samples_split=24;, score=(train=-0.006, test=-0.014) total time=   0.1s\n",
      "[CV 4/5] END max_depth=17, max_features=8, min_samples_split=24;, score=(train=-0.006, test=-0.013) total time=   0.1s\n",
      "[CV 5/5] END max_depth=17, max_features=8, min_samples_split=24;, score=(train=-0.007, test=-0.014) total time=   0.1s\n",
      "[CV 1/5] END max_depth=17, max_features=8, min_samples_split=25;, score=(train=-0.007, test=-0.014) total time=   0.1s\n",
      "[CV 2/5] END max_depth=17, max_features=8, min_samples_split=25;, score=(train=-0.007, test=-0.015) total time=   0.1s\n",
      "[CV 3/5] END max_depth=17, max_features=8, min_samples_split=25;, score=(train=-0.007, test=-0.014) total time=   0.1s\n",
      "[CV 4/5] END max_depth=17, max_features=8, min_samples_split=25;, score=(train=-0.007, test=-0.013) total time=   0.1s\n",
      "[CV 5/5] END max_depth=17, max_features=8, min_samples_split=25;, score=(train=-0.007, test=-0.013) total time=   0.1s\n",
      "[CV 1/5] END max_depth=17, max_features=9, min_samples_split=26;, score=(train=-0.007, test=-0.014) total time=   0.1s\n",
      "[CV 2/5] END max_depth=17, max_features=9, min_samples_split=26;, score=(train=-0.007, test=-0.014) total time=   0.1s\n",
      "[CV 3/5] END max_depth=17, max_features=9, min_samples_split=26;, score=(train=-0.006, test=-0.014) total time=   0.1s\n",
      "[CV 4/5] END max_depth=17, max_features=9, min_samples_split=26;, score=(train=-0.007, test=-0.013) total time=   0.1s\n",
      "[CV 5/5] END max_depth=17, max_features=9, min_samples_split=26;, score=(train=-0.007, test=-0.014) total time=   0.1s\n",
      "[CV 1/5] END max_depth=17, max_features=9, min_samples_split=24;, score=(train=-0.006, test=-0.014) total time=   0.1s\n",
      "[CV 2/5] END max_depth=17, max_features=9, min_samples_split=24;, score=(train=-0.006, test=-0.014) total time=   0.1s\n",
      "[CV 3/5] END max_depth=17, max_features=9, min_samples_split=24;, score=(train=-0.006, test=-0.014) total time=   0.1s\n",
      "[CV 4/5] END max_depth=17, max_features=9, min_samples_split=24;, score=(train=-0.006, test=-0.013) total time=   0.1s\n",
      "[CV 5/5] END max_depth=17, max_features=9, min_samples_split=24;, score=(train=-0.006, test=-0.014) total time=   0.1s\n",
      "[CV 1/5] END max_depth=17, max_features=9, min_samples_split=25;, score=(train=-0.006, test=-0.014) total time=   0.1s\n",
      "[CV 2/5] END max_depth=17, max_features=9, min_samples_split=25;, score=(train=-0.006, test=-0.014) total time=   0.1s\n",
      "[CV 3/5] END max_depth=17, max_features=9, min_samples_split=25;, score=(train=-0.006, test=-0.014) total time=   0.1s\n",
      "[CV 4/5] END max_depth=17, max_features=9, min_samples_split=25;, score=(train=-0.006, test=-0.013) total time=   0.1s\n",
      "[CV 5/5] END max_depth=17, max_features=9, min_samples_split=25;, score=(train=-0.006, test=-0.014) total time=   0.1s\n",
      "[CV 1/5] END max_depth=16, max_features=7, min_samples_split=26;, score=(train=-0.007, test=-0.014) total time=   0.1s\n",
      "[CV 2/5] END max_depth=16, max_features=7, min_samples_split=26;, score=(train=-0.007, test=-0.015) total time=   0.1s\n",
      "[CV 3/5] END max_depth=16, max_features=7, min_samples_split=26;, score=(train=-0.007, test=-0.014) total time=   0.1s\n",
      "[CV 4/5] END max_depth=16, max_features=7, min_samples_split=26;, score=(train=-0.007, test=-0.014) total time=   0.1s\n",
      "[CV 5/5] END max_depth=16, max_features=7, min_samples_split=26;, score=(train=-0.007, test=-0.013) total time=   0.1s\n",
      "[CV 1/5] END max_depth=16, max_features=7, min_samples_split=24;, score=(train=-0.007, test=-0.014) total time=   0.1s\n",
      "[CV 2/5] END max_depth=16, max_features=7, min_samples_split=24;, score=(train=-0.007, test=-0.014) total time=   0.1s\n",
      "[CV 3/5] END max_depth=16, max_features=7, min_samples_split=24;, score=(train=-0.007, test=-0.014) total time=   0.1s\n",
      "[CV 4/5] END max_depth=16, max_features=7, min_samples_split=24;, score=(train=-0.007, test=-0.013) total time=   0.1s\n",
      "[CV 5/5] END max_depth=16, max_features=7, min_samples_split=24;, score=(train=-0.007, test=-0.014) total time=   0.1s\n",
      "[CV 1/5] END max_depth=16, max_features=7, min_samples_split=25;, score=(train=-0.007, test=-0.013) total time=   0.1s\n",
      "[CV 2/5] END max_depth=16, max_features=7, min_samples_split=25;, score=(train=-0.007, test=-0.013) total time=   0.1s\n",
      "[CV 3/5] END max_depth=16, max_features=7, min_samples_split=25;, score=(train=-0.007, test=-0.014) total time=   0.1s\n",
      "[CV 4/5] END max_depth=16, max_features=7, min_samples_split=25;, score=(train=-0.007, test=-0.014) total time=   0.1s\n",
      "[CV 5/5] END max_depth=16, max_features=7, min_samples_split=25;, score=(train=-0.007, test=-0.013) total time=   0.1s\n",
      "[CV 1/5] END max_depth=16, max_features=8, min_samples_split=26;, score=(train=-0.007, test=-0.013) total time=   0.1s\n",
      "[CV 2/5] END max_depth=16, max_features=8, min_samples_split=26;, score=(train=-0.007, test=-0.014) total time=   0.1s\n",
      "[CV 3/5] END max_depth=16, max_features=8, min_samples_split=26;, score=(train=-0.007, test=-0.014) total time=   0.1s\n",
      "[CV 4/5] END max_depth=16, max_features=8, min_samples_split=26;, score=(train=-0.007, test=-0.014) total time=   0.1s\n",
      "[CV 5/5] END max_depth=16, max_features=8, min_samples_split=26;, score=(train=-0.007, test=-0.013) total time=   0.1s\n",
      "[CV 1/5] END max_depth=16, max_features=8, min_samples_split=24;, score=(train=-0.006, test=-0.012) total time=   0.1s\n",
      "[CV 2/5] END max_depth=16, max_features=8, min_samples_split=24;, score=(train=-0.007, test=-0.013) total time=   0.1s\n",
      "[CV 3/5] END max_depth=16, max_features=8, min_samples_split=24;, score=(train=-0.007, test=-0.014) total time=   0.1s\n",
      "[CV 4/5] END max_depth=16, max_features=8, min_samples_split=24;, score=(train=-0.007, test=-0.014) total time=   0.1s\n",
      "[CV 5/5] END max_depth=16, max_features=8, min_samples_split=24;, score=(train=-0.006, test=-0.013) total time=   0.1s\n",
      "[CV 1/5] END max_depth=16, max_features=8, min_samples_split=25;, score=(train=-0.007, test=-0.013) total time=   0.1s\n",
      "[CV 2/5] END max_depth=16, max_features=8, min_samples_split=25;, score=(train=-0.006, test=-0.013) total time=   0.1s\n",
      "[CV 3/5] END max_depth=16, max_features=8, min_samples_split=25;, score=(train=-0.007, test=-0.013) total time=   0.1s\n",
      "[CV 4/5] END max_depth=16, max_features=8, min_samples_split=25;, score=(train=-0.007, test=-0.013) total time=   0.1s\n",
      "[CV 5/5] END max_depth=16, max_features=8, min_samples_split=25;, score=(train=-0.007, test=-0.014) total time=   0.1s\n",
      "[CV 1/5] END max_depth=16, max_features=9, min_samples_split=26;, score=(train=-0.007, test=-0.014) total time=   0.1s\n",
      "[CV 2/5] END max_depth=16, max_features=9, min_samples_split=26;, score=(train=-0.007, test=-0.014) total time=   0.1s\n",
      "[CV 3/5] END max_depth=16, max_features=9, min_samples_split=26;, score=(train=-0.007, test=-0.014) total time=   0.1s\n",
      "[CV 4/5] END max_depth=16, max_features=9, min_samples_split=26;, score=(train=-0.007, test=-0.013) total time=   0.1s\n",
      "[CV 5/5] END max_depth=16, max_features=9, min_samples_split=26;, score=(train=-0.007, test=-0.014) total time=   0.1s\n",
      "[CV 1/5] END max_depth=16, max_features=9, min_samples_split=24;, score=(train=-0.006, test=-0.013) total time=   0.1s\n",
      "[CV 2/5] END max_depth=16, max_features=9, min_samples_split=24;, score=(train=-0.006, test=-0.014) total time=   0.1s\n",
      "[CV 3/5] END max_depth=16, max_features=9, min_samples_split=24;, score=(train=-0.006, test=-0.014) total time=   0.1s\n",
      "[CV 4/5] END max_depth=16, max_features=9, min_samples_split=24;, score=(train=-0.006, test=-0.013) total time=   0.1s\n",
      "[CV 5/5] END max_depth=16, max_features=9, min_samples_split=24;, score=(train=-0.006, test=-0.014) total time=   0.1s\n",
      "[CV 1/5] END max_depth=16, max_features=9, min_samples_split=25;, score=(train=-0.007, test=-0.013) total time=   0.1s\n",
      "[CV 2/5] END max_depth=16, max_features=9, min_samples_split=25;, score=(train=-0.007, test=-0.014) total time=   0.1s\n",
      "[CV 3/5] END max_depth=16, max_features=9, min_samples_split=25;, score=(train=-0.007, test=-0.014) total time=   0.1s\n",
      "[CV 4/5] END max_depth=16, max_features=9, min_samples_split=25;, score=(train=-0.007, test=-0.013) total time=   0.1s\n",
      "[CV 5/5] END max_depth=16, max_features=9, min_samples_split=25;, score=(train=-0.007, test=-0.014) total time=   0.1s\n"
     ]
    },
    {
     "data": {
      "text/plain": [
       "GridSearchCV(cv=5, estimator=DecisionTreeRegressor(),\n",
       "             param_grid={'max_depth': [15, 17, 16], 'max_features': [7, 8, 9],\n",
       "                         'min_samples_split': [26, 24, 25]},\n",
       "             return_train_score=True, scoring='neg_mean_squared_error',\n",
       "             verbose=3)"
      ]
     },
     "execution_count": 58,
     "metadata": {},
     "output_type": "execute_result"
    }
   ],
   "source": [
    "gs.fit(X_train, y_train)"
   ]
  },
  {
   "cell_type": "code",
   "execution_count": 61,
   "id": "2d12db59-34c3-4a54-b6af-8954846439b1",
   "metadata": {},
   "outputs": [],
   "source": [
    "grid_search_results = pd.DataFrame(gs.cv_results_)\n",
    "# we only keep some of the information\n",
    "grid_search_results = grid_search_results[['param_max_depth', 'param_min_samples_split',\n",
    "       'mean_test_score', 'mean_train_score', \"param_max_features\"]]"
   ]
  },
  {
   "cell_type": "code",
   "execution_count": 67,
   "id": "6cac3058-3438-4d03-9183-bcd8314edb95",
   "metadata": {},
   "outputs": [
    {
     "data": {
      "text/html": [
       "<div>\n",
       "<style scoped>\n",
       "    .dataframe tbody tr th:only-of-type {\n",
       "        vertical-align: middle;\n",
       "    }\n",
       "\n",
       "    .dataframe tbody tr th {\n",
       "        vertical-align: top;\n",
       "    }\n",
       "\n",
       "    .dataframe thead th {\n",
       "        text-align: right;\n",
       "    }\n",
       "</style>\n",
       "<table border=\"1\" class=\"dataframe\">\n",
       "  <thead>\n",
       "    <tr style=\"text-align: right;\">\n",
       "      <th></th>\n",
       "      <th>param_max_depth</th>\n",
       "      <th>param_min_samples_split</th>\n",
       "      <th>mean_test_score</th>\n",
       "      <th>mean_train_score</th>\n",
       "      <th>param_max_features</th>\n",
       "    </tr>\n",
       "  </thead>\n",
       "  <tbody>\n",
       "    <tr>\n",
       "      <th>3</th>\n",
       "      <td>15</td>\n",
       "      <td>26</td>\n",
       "      <td>-0.013014</td>\n",
       "      <td>-0.007159</td>\n",
       "      <td>8</td>\n",
       "    </tr>\n",
       "    <tr>\n",
       "      <th>22</th>\n",
       "      <td>16</td>\n",
       "      <td>24</td>\n",
       "      <td>-0.013246</td>\n",
       "      <td>-0.006606</td>\n",
       "      <td>8</td>\n",
       "    </tr>\n",
       "    <tr>\n",
       "      <th>23</th>\n",
       "      <td>16</td>\n",
       "      <td>25</td>\n",
       "      <td>-0.013258</td>\n",
       "      <td>-0.006770</td>\n",
       "      <td>8</td>\n",
       "    </tr>\n",
       "    <tr>\n",
       "      <th>5</th>\n",
       "      <td>15</td>\n",
       "      <td>25</td>\n",
       "      <td>-0.013358</td>\n",
       "      <td>-0.007002</td>\n",
       "      <td>8</td>\n",
       "    </tr>\n",
       "    <tr>\n",
       "      <th>13</th>\n",
       "      <td>17</td>\n",
       "      <td>24</td>\n",
       "      <td>-0.013372</td>\n",
       "      <td>-0.006413</td>\n",
       "      <td>8</td>\n",
       "    </tr>\n",
       "  </tbody>\n",
       "</table>\n",
       "</div>"
      ],
      "text/plain": [
       "   param_max_depth param_min_samples_split  mean_test_score  mean_train_score  \\\n",
       "3               15                      26        -0.013014         -0.007159   \n",
       "22              16                      24        -0.013246         -0.006606   \n",
       "23              16                      25        -0.013258         -0.006770   \n",
       "5               15                      25        -0.013358         -0.007002   \n",
       "13              17                      24        -0.013372         -0.006413   \n",
       "\n",
       "   param_max_features  \n",
       "3                   8  \n",
       "22                  8  \n",
       "23                  8  \n",
       "5                   8  \n",
       "13                  8  "
      ]
     },
     "execution_count": 67,
     "metadata": {},
     "output_type": "execute_result"
    }
   ],
   "source": [
    "grid_search_results.sort_values(\"mean_test_score\", ascending=False).head()"
   ]
  },
  {
   "cell_type": "code",
   "execution_count": 63,
   "id": "2c1dff37-156c-4444-8b38-15b22dfb0db7",
   "metadata": {},
   "outputs": [],
   "source": [
    "best_tree = gs.best_estimator_"
   ]
  },
  {
   "cell_type": "code",
   "execution_count": 64,
   "id": "5ae3d05b-c029-4340-b803-4bc20eeb1165",
   "metadata": {},
   "outputs": [
    {
     "data": {
      "text/plain": [
       "0.00694922729929987"
      ]
     },
     "execution_count": 64,
     "metadata": {},
     "output_type": "execute_result"
    }
   ],
   "source": [
    "mse(best_tree.predict(X_train), y_train)"
   ]
  },
  {
   "cell_type": "code",
   "execution_count": 68,
   "id": "999f1d58-e7eb-49d9-8b07-aa029ca05dee",
   "metadata": {},
   "outputs": [
    {
     "data": {
      "text/plain": [
       "DecisionTreeRegressor(max_depth=15, max_features=8, min_samples_split=26)"
      ]
     },
     "execution_count": 68,
     "metadata": {},
     "output_type": "execute_result"
    }
   ],
   "source": [
    "best_tree"
   ]
  },
  {
   "cell_type": "code",
   "execution_count": 78,
   "id": "fe3d8e3b-fee2-4e41-b8d9-a998d4b02030",
   "metadata": {},
   "outputs": [],
   "source": [
    "test_real_ult = pd.read_csv(\"Data/test.csv\")"
   ]
  },
  {
   "cell_type": "code",
   "execution_count": 70,
   "id": "5cba3b2a-3f62-4bce-b574-4bf8a0ba69bb",
   "metadata": {},
   "outputs": [],
   "source": [
    "test_real_ult.cut = le.fit_transform(test_real_ult[\"cut\"])\n",
    "test_real_ult.color = le.fit_transform(test_real_ult[\"color\"])\n",
    "test_real_ult.clarity = le.fit_transform(test_real_ult[\"clarity\"])"
   ]
  },
  {
   "cell_type": "code",
   "execution_count": 73,
   "id": "37edb346-7a93-4888-a7b3-4faa58abf4a4",
   "metadata": {},
   "outputs": [],
   "source": [
    "test_real_ult.drop('id',axis = 1, inplace=True)"
   ]
  },
  {
   "cell_type": "code",
   "execution_count": 75,
   "id": "1c60a4d5-da2f-49e1-8afa-8e0e071bc374",
   "metadata": {},
   "outputs": [],
   "source": [
    "finalpred = best_tree.predict(test_real_ult)"
   ]
  },
  {
   "cell_type": "code",
   "execution_count": 76,
   "id": "b0d36212-7cc8-443b-acbd-20e3d7a5dc64",
   "metadata": {},
   "outputs": [
    {
     "data": {
      "text/plain": [
       "array([6.08790909, 8.57408108, 9.60341176, ..., 6.5364    , 8.80526667,\n",
       "       8.00091667])"
      ]
     },
     "execution_count": 76,
     "metadata": {},
     "output_type": "execute_result"
    }
   ],
   "source": [
    "finalpred"
   ]
  },
  {
   "cell_type": "code",
   "execution_count": 79,
   "id": "76678e78-5950-458d-9548-ae47b3305acd",
   "metadata": {},
   "outputs": [],
   "source": [
    "test_real_ult = test_real_ult[['id']]"
   ]
  },
  {
   "cell_type": "code",
   "execution_count": 81,
   "id": "e8bc71a6-d585-4532-be1e-903639c72a0e",
   "metadata": {},
   "outputs": [
    {
     "name": "stderr",
     "output_type": "stream",
     "text": [
      "<ipython-input-81-91b4c33f6352>:1: SettingWithCopyWarning: \n",
      "A value is trying to be set on a copy of a slice from a DataFrame.\n",
      "Try using .loc[row_indexer,col_indexer] = value instead\n",
      "\n",
      "See the caveats in the documentation: https://pandas.pydata.org/pandas-docs/stable/user_guide/indexing.html#returning-a-view-versus-a-copy\n",
      "  test_real_ult['price'] = finalpred.tolist()\n"
     ]
    }
   ],
   "source": [
    "test_real_ult['price'] = finalpred.tolist()"
   ]
  },
  {
   "cell_type": "code",
   "execution_count": 82,
   "id": "2f13d0c1-4acc-4b27-a2ad-47ecaf3de25b",
   "metadata": {},
   "outputs": [
    {
     "data": {
      "text/html": [
       "<div>\n",
       "<style scoped>\n",
       "    .dataframe tbody tr th:only-of-type {\n",
       "        vertical-align: middle;\n",
       "    }\n",
       "\n",
       "    .dataframe tbody tr th {\n",
       "        vertical-align: top;\n",
       "    }\n",
       "\n",
       "    .dataframe thead th {\n",
       "        text-align: right;\n",
       "    }\n",
       "</style>\n",
       "<table border=\"1\" class=\"dataframe\">\n",
       "  <thead>\n",
       "    <tr style=\"text-align: right;\">\n",
       "      <th></th>\n",
       "      <th>id</th>\n",
       "      <th>price</th>\n",
       "    </tr>\n",
       "  </thead>\n",
       "  <tbody>\n",
       "    <tr>\n",
       "      <th>0</th>\n",
       "      <td>0</td>\n",
       "      <td>6.087909</td>\n",
       "    </tr>\n",
       "    <tr>\n",
       "      <th>1</th>\n",
       "      <td>1</td>\n",
       "      <td>8.574081</td>\n",
       "    </tr>\n",
       "    <tr>\n",
       "      <th>2</th>\n",
       "      <td>2</td>\n",
       "      <td>9.603412</td>\n",
       "    </tr>\n",
       "    <tr>\n",
       "      <th>3</th>\n",
       "      <td>3</td>\n",
       "      <td>7.813500</td>\n",
       "    </tr>\n",
       "    <tr>\n",
       "      <th>4</th>\n",
       "      <td>4</td>\n",
       "      <td>8.933375</td>\n",
       "    </tr>\n",
       "    <tr>\n",
       "      <th>...</th>\n",
       "      <td>...</td>\n",
       "      <td>...</td>\n",
       "    </tr>\n",
       "    <tr>\n",
       "      <th>13480</th>\n",
       "      <td>13480</td>\n",
       "      <td>8.538465</td>\n",
       "    </tr>\n",
       "    <tr>\n",
       "      <th>13481</th>\n",
       "      <td>13481</td>\n",
       "      <td>8.396930</td>\n",
       "    </tr>\n",
       "    <tr>\n",
       "      <th>13482</th>\n",
       "      <td>13482</td>\n",
       "      <td>6.536400</td>\n",
       "    </tr>\n",
       "    <tr>\n",
       "      <th>13483</th>\n",
       "      <td>13483</td>\n",
       "      <td>8.805267</td>\n",
       "    </tr>\n",
       "    <tr>\n",
       "      <th>13484</th>\n",
       "      <td>13484</td>\n",
       "      <td>8.000917</td>\n",
       "    </tr>\n",
       "  </tbody>\n",
       "</table>\n",
       "<p>13485 rows × 2 columns</p>\n",
       "</div>"
      ],
      "text/plain": [
       "          id     price\n",
       "0          0  6.087909\n",
       "1          1  8.574081\n",
       "2          2  9.603412\n",
       "3          3  7.813500\n",
       "4          4  8.933375\n",
       "...      ...       ...\n",
       "13480  13480  8.538465\n",
       "13481  13481  8.396930\n",
       "13482  13482  6.536400\n",
       "13483  13483  8.805267\n",
       "13484  13484  8.000917\n",
       "\n",
       "[13485 rows x 2 columns]"
      ]
     },
     "execution_count": 82,
     "metadata": {},
     "output_type": "execute_result"
    }
   ],
   "source": [
    "test_real_ult"
   ]
  },
  {
   "cell_type": "code",
   "execution_count": 83,
   "id": "47533628-0e24-40e3-8332-82b2f2805e1d",
   "metadata": {},
   "outputs": [],
   "source": [
    "a = test_real_ult.set_index('id',drop=True, append=False, inplace=False, verify_integrity=False)"
   ]
  },
  {
   "cell_type": "code",
   "execution_count": 84,
   "id": "bbe8df82-e1b5-4662-b993-015bde83561b",
   "metadata": {},
   "outputs": [],
   "source": [
    "a.to_csv(\"Data/submission_final.csv\")"
   ]
  },
  {
   "cell_type": "code",
   "execution_count": null,
   "id": "e8cc9821-34ee-41da-bdf7-c0b73100ca1d",
   "metadata": {},
   "outputs": [],
   "source": [
    "from sklearn.preprocessing import MinMaxScaler\n",
    "min_max = MinMaxScaler()\n",
    "#pasamos todas las variables entre 0 y 1"
   ]
  },
  {
   "cell_type": "code",
   "execution_count": null,
   "id": "98acad6a-e591-43c3-961b-02cb6ea9759e",
   "metadata": {},
   "outputs": [],
   "source": [
    "dtrain[\"carat\"] = min_max.fit_transform(dtrain[\"carat\"].values.reshape(-1, 1))"
   ]
  },
  {
   "cell_type": "code",
   "execution_count": null,
   "id": "22589ba7-1702-4a08-92f8-24703912cada",
   "metadata": {},
   "outputs": [],
   "source": [
    "dtrain[\"color\"] = min_max.fit_transform(dtrain[\"color\"].values.reshape(-1, 1))"
   ]
  },
  {
   "cell_type": "code",
   "execution_count": null,
   "id": "465a4c4f-871d-495f-b399-6876cb2140f2",
   "metadata": {},
   "outputs": [],
   "source": [
    "dtrain[\"clarity\"] = min_max.fit_transform(dtrain[\"clarity\"].values.reshape(-1, 1))"
   ]
  },
  {
   "cell_type": "code",
   "execution_count": null,
   "id": "2ea01473-493f-4373-bc8f-355f064eddd9",
   "metadata": {},
   "outputs": [],
   "source": [
    "dtrain[\"table\"] = min_max.fit_transform(dtrain[\"table\"].values.reshape(-1, 1))"
   ]
  },
  {
   "cell_type": "code",
   "execution_count": null,
   "id": "132ba66a-4dae-4ea7-995f-861564b30b54",
   "metadata": {},
   "outputs": [],
   "source": [
    "dtrain[\"x\"] = min_max.fit_transform(dtrain[\"x\"].values.reshape(-1, 1))"
   ]
  },
  {
   "cell_type": "code",
   "execution_count": null,
   "id": "27c5c571-13e0-48c5-9865-6a53c9cebf2d",
   "metadata": {},
   "outputs": [],
   "source": [
    "dtrain[\"y\"] = min_max.fit_transform(dtrain[\"y\"].values.reshape(-1, 1))"
   ]
  },
  {
   "cell_type": "code",
   "execution_count": null,
   "id": "a76abf8a-0dea-4fab-8a29-70fa82040848",
   "metadata": {},
   "outputs": [],
   "source": [
    "dtrain[\"z\"] = min_max.fit_transform(dtrain[\"z\"].values.reshape(-1, 1))"
   ]
  },
  {
   "cell_type": "code",
   "execution_count": null,
   "id": "4e1bfc37-3699-4785-ab83-ea6daaeb280a",
   "metadata": {},
   "outputs": [],
   "source": [
    "dtrain"
   ]
  },
  {
   "cell_type": "code",
   "execution_count": null,
   "id": "99dc83f3-3c12-45da-a2be-bc06b53352d9",
   "metadata": {},
   "outputs": [],
   "source": [
    "X = dtrain.drop(\"price\", axis=1)"
   ]
  },
  {
   "cell_type": "code",
   "execution_count": null,
   "id": "7bff0ef8-3535-4233-8aae-d1fd9c09751c",
   "metadata": {},
   "outputs": [],
   "source": [
    "y = dtrain.price"
   ]
  },
  {
   "cell_type": "code",
   "execution_count": null,
   "id": "f54e5af8-6637-40ee-b81d-2a845552dfff",
   "metadata": {},
   "outputs": [],
   "source": []
  },
  {
   "cell_type": "code",
   "execution_count": null,
   "id": "c5a29e87-6f3d-4681-ab99-c7f48964b000",
   "metadata": {},
   "outputs": [],
   "source": [
    "X_train, X_test, y_train, y_test = train_test_split(X, y, test_size=0.2)"
   ]
  },
  {
   "cell_type": "code",
   "execution_count": null,
   "id": "d58176bb",
   "metadata": {},
   "outputs": [],
   "source": [
    "xgbr=xgb.XGBRegressor(verbosity=0)\n"
   ]
  },
  {
   "cell_type": "code",
   "execution_count": null,
   "id": "69080c1c",
   "metadata": {},
   "outputs": [],
   "source": [
    "space={\n",
    "    \n",
    "    'n_estimators': hp.quniform('n_estimators', 10, 10000, 20), # uniforme discreta de 10 a 1000 en saltos de 25\n",
    "    \n",
    "    'learning_rate': hp.uniform('learning_rate', 0.00001, 1.0), # uniforme continua entre 0.0001 y 1\n",
    "    \n",
    "    'gamma': hp.uniform('x_gamma', 0.1, 0.5)\n",
    "}"
   ]
  },
  {
   "cell_type": "code",
   "execution_count": null,
   "id": "44a3571d-b517-4175-b2e3-0208bd11a5a1",
   "metadata": {},
   "outputs": [],
   "source": [
    "def objetivo(space):\n",
    "    \n",
    "    modelo=xgb.XGBRegressor(n_estimators=int(space['n_estimators']),\n",
    "                            learning_rate=space['learning_rate'],\n",
    "                            gamma=space['gamma'],\n",
    "                            objective='reg:squarederror'\n",
    "                           )\n",
    "    \n",
    "    eval_set=[(X_train, y_train), (X_test, y_test)]\n",
    "    \n",
    "    modelo.fit(X_train, y_train, eval_set=eval_set, eval_metric='rmse', verbose=False)\n",
    "    \n",
    "    y_pred=modelo.predict(X_test)\n",
    "    \n",
    "    rmse=mse(y_test, y_pred)**0.5\n",
    "    \n",
    "    return {'loss': rmse, 'status': STATUS_OK}"
   ]
  },
  {
   "cell_type": "code",
   "execution_count": null,
   "id": "e332fc61-711f-410a-9a81-0e1c78aa71a1",
   "metadata": {},
   "outputs": [],
   "source": [
    "mejor=fmin(fn=objetivo, space=space, algo=tpe.suggest, max_evals=10, trials=Trials())\n",
    "\n",
    "mejor"
   ]
  },
  {
   "cell_type": "code",
   "execution_count": null,
   "id": "8c797756-31df-46ca-bf1a-0fbb2298e7fc",
   "metadata": {},
   "outputs": [],
   "source": [
    "modelo=xgb.XGBRegressor(n_estimators=int(mejor['n_estimators']), \n",
    "                       learning_rate=mejor['learning_rate'], \n",
    "                       gamma=mejor['x_gamma'],\n",
    "                       objective='reg:squarederror')"
   ]
  },
  {
   "cell_type": "code",
   "execution_count": null,
   "id": "6b092371-c7f2-47f5-9761-ed895b30527a",
   "metadata": {},
   "outputs": [],
   "source": [
    "modelo.fit(X_train, y_train)"
   ]
  },
  {
   "cell_type": "code",
   "execution_count": null,
   "id": "f072c5e2-119b-47b3-8d70-79f94445cc36",
   "metadata": {},
   "outputs": [],
   "source": [
    "y_pred=modelo.predict(X_test)\n"
   ]
  },
  {
   "cell_type": "code",
   "execution_count": null,
   "id": "682b77f8-51d4-4f77-9acb-4ee52758640d",
   "metadata": {},
   "outputs": [],
   "source": [
    "X_test"
   ]
  },
  {
   "cell_type": "code",
   "execution_count": null,
   "id": "9d45a25b-afaf-4b2f-a1ad-50b54ca7e213",
   "metadata": {},
   "outputs": [],
   "source": [
    "mse(y_test, y_pred)"
   ]
  },
  {
   "cell_type": "code",
   "execution_count": null,
   "id": "ae5f58e3-bef2-4471-977c-1ce976a84c1a",
   "metadata": {},
   "outputs": [],
   "source": [
    "modelo"
   ]
  },
  {
   "cell_type": "code",
   "execution_count": null,
   "id": "0bac08cb-6a9c-490a-9bc0-4107d3627513",
   "metadata": {},
   "outputs": [],
   "source": [
    "test_real = pd.read_csv(\"Data/test.csv\")"
   ]
  },
  {
   "cell_type": "code",
   "execution_count": null,
   "id": "c8f064a4-8c2e-4707-ab45-c2789a2f0931",
   "metadata": {},
   "outputs": [],
   "source": [
    "test_real = test_real[['carat', 'color', 'clarity', 'table', 'x', 'y','z']]\n",
    "#Adaptamos el test a como hemos entrenado el data"
   ]
  },
  {
   "cell_type": "code",
   "execution_count": null,
   "id": "c128f5ac-1e5d-44a0-9ecb-c338038482f6",
   "metadata": {},
   "outputs": [],
   "source": [
    "test_real.color = le.fit_transform(test_real[\"color\"])\n",
    "test_real.clarity = le.fit_transform(test_real[\"clarity\"])"
   ]
  },
  {
   "cell_type": "code",
   "execution_count": null,
   "id": "aef2f68a-1855-4710-a75a-c8d62fe41bbb",
   "metadata": {},
   "outputs": [],
   "source": [
    "test_real[\"carat\"] = min_max.fit_transform(test_real[\"carat\"].values.reshape(-1, 1))\n",
    "test_real[\"color\"] = min_max.fit_transform(test_real[\"color\"].values.reshape(-1, 1))\n",
    "test_real[\"clarity\"] = min_max.fit_transform(test_real[\"clarity\"].values.reshape(-1, 1))\n",
    "test_real[\"table\"] = min_max.fit_transform(test_real[\"table\"].values.reshape(-1, 1))\n",
    "test_real[\"x\"] = min_max.fit_transform(test_real[\"x\"].values.reshape(-1, 1))\n",
    "test_real[\"y\"] = min_max.fit_transform(test_real[\"y\"].values.reshape(-1, 1))\n",
    "test_real[\"z\"] = min_max.fit_transform(test_real[\"z\"].values.reshape(-1, 1))"
   ]
  },
  {
   "cell_type": "code",
   "execution_count": null,
   "id": "64d329aa-03d0-4ce9-b739-f13f42689ac6",
   "metadata": {},
   "outputs": [],
   "source": [
    "prediccionreal = modelo.predict(test_real)"
   ]
  },
  {
   "cell_type": "code",
   "execution_count": null,
   "id": "c2b0d2d4-db33-47c0-8dc1-f887a507a7da",
   "metadata": {},
   "outputs": [],
   "source": [
    "prediccionreal\n",
    "#vemos que es mala"
   ]
  },
  {
   "cell_type": "code",
   "execution_count": 46,
   "id": "25e1b87e-2043-4b0e-b9a5-6b8a8cac28cf",
   "metadata": {},
   "outputs": [],
   "source": [
    "dtrain = pd.read_csv(\"Data/train.csv\")"
   ]
  },
  {
   "cell_type": "code",
   "execution_count": 47,
   "id": "9ad08f08-78a2-4101-838f-29d626ad2a46",
   "metadata": {},
   "outputs": [],
   "source": [
    "dtrain.drop(['id'], axis=1, inplace=True)"
   ]
  },
  {
   "cell_type": "code",
   "execution_count": 48,
   "id": "358fec29-1ff2-4633-b4ca-919b56e856c2",
   "metadata": {},
   "outputs": [
    {
     "data": {
      "text/html": [
       "<div>\n",
       "<style scoped>\n",
       "    .dataframe tbody tr th:only-of-type {\n",
       "        vertical-align: middle;\n",
       "    }\n",
       "\n",
       "    .dataframe tbody tr th {\n",
       "        vertical-align: top;\n",
       "    }\n",
       "\n",
       "    .dataframe thead th {\n",
       "        text-align: right;\n",
       "    }\n",
       "</style>\n",
       "<table border=\"1\" class=\"dataframe\">\n",
       "  <thead>\n",
       "    <tr style=\"text-align: right;\">\n",
       "      <th></th>\n",
       "      <th>carat</th>\n",
       "      <th>cut</th>\n",
       "      <th>color</th>\n",
       "      <th>clarity</th>\n",
       "      <th>depth</th>\n",
       "      <th>table</th>\n",
       "      <th>x</th>\n",
       "      <th>y</th>\n",
       "      <th>z</th>\n",
       "      <th>price</th>\n",
       "    </tr>\n",
       "  </thead>\n",
       "  <tbody>\n",
       "    <tr>\n",
       "      <th>0</th>\n",
       "      <td>0.30</td>\n",
       "      <td>Premium</td>\n",
       "      <td>D</td>\n",
       "      <td>SI2</td>\n",
       "      <td>62.4</td>\n",
       "      <td>58.0</td>\n",
       "      <td>4.31</td>\n",
       "      <td>4.28</td>\n",
       "      <td>2.68</td>\n",
       "      <td>6.353</td>\n",
       "    </tr>\n",
       "    <tr>\n",
       "      <th>1</th>\n",
       "      <td>1.01</td>\n",
       "      <td>Ideal</td>\n",
       "      <td>E</td>\n",
       "      <td>VVS2</td>\n",
       "      <td>62.7</td>\n",
       "      <td>56.0</td>\n",
       "      <td>6.42</td>\n",
       "      <td>6.46</td>\n",
       "      <td>4.04</td>\n",
       "      <td>9.183</td>\n",
       "    </tr>\n",
       "    <tr>\n",
       "      <th>2</th>\n",
       "      <td>0.72</td>\n",
       "      <td>Ideal</td>\n",
       "      <td>F</td>\n",
       "      <td>VS2</td>\n",
       "      <td>61.8</td>\n",
       "      <td>59.0</td>\n",
       "      <td>5.71</td>\n",
       "      <td>5.74</td>\n",
       "      <td>3.54</td>\n",
       "      <td>7.983</td>\n",
       "    </tr>\n",
       "    <tr>\n",
       "      <th>3</th>\n",
       "      <td>1.08</td>\n",
       "      <td>Very Good</td>\n",
       "      <td>G</td>\n",
       "      <td>SI2</td>\n",
       "      <td>63.2</td>\n",
       "      <td>57.0</td>\n",
       "      <td>6.54</td>\n",
       "      <td>6.50</td>\n",
       "      <td>4.12</td>\n",
       "      <td>8.371</td>\n",
       "    </tr>\n",
       "    <tr>\n",
       "      <th>4</th>\n",
       "      <td>0.36</td>\n",
       "      <td>Premium</td>\n",
       "      <td>G</td>\n",
       "      <td>VS1</td>\n",
       "      <td>62.3</td>\n",
       "      <td>59.0</td>\n",
       "      <td>4.50</td>\n",
       "      <td>4.55</td>\n",
       "      <td>2.82</td>\n",
       "      <td>6.588</td>\n",
       "    </tr>\n",
       "    <tr>\n",
       "      <th>...</th>\n",
       "      <td>...</td>\n",
       "      <td>...</td>\n",
       "      <td>...</td>\n",
       "      <td>...</td>\n",
       "      <td>...</td>\n",
       "      <td>...</td>\n",
       "      <td>...</td>\n",
       "      <td>...</td>\n",
       "      <td>...</td>\n",
       "      <td>...</td>\n",
       "    </tr>\n",
       "    <tr>\n",
       "      <th>40450</th>\n",
       "      <td>0.42</td>\n",
       "      <td>Premium</td>\n",
       "      <td>D</td>\n",
       "      <td>SI2</td>\n",
       "      <td>62.1</td>\n",
       "      <td>59.0</td>\n",
       "      <td>4.78</td>\n",
       "      <td>4.82</td>\n",
       "      <td>2.98</td>\n",
       "      <td>6.551</td>\n",
       "    </tr>\n",
       "    <tr>\n",
       "      <th>40451</th>\n",
       "      <td>0.53</td>\n",
       "      <td>Premium</td>\n",
       "      <td>G</td>\n",
       "      <td>VS2</td>\n",
       "      <td>62.0</td>\n",
       "      <td>58.0</td>\n",
       "      <td>5.21</td>\n",
       "      <td>5.18</td>\n",
       "      <td>3.22</td>\n",
       "      <td>7.382</td>\n",
       "    </tr>\n",
       "    <tr>\n",
       "      <th>40452</th>\n",
       "      <td>0.80</td>\n",
       "      <td>Good</td>\n",
       "      <td>G</td>\n",
       "      <td>SI2</td>\n",
       "      <td>62.8</td>\n",
       "      <td>58.0</td>\n",
       "      <td>5.86</td>\n",
       "      <td>5.90</td>\n",
       "      <td>3.69</td>\n",
       "      <td>7.768</td>\n",
       "    </tr>\n",
       "    <tr>\n",
       "      <th>40453</th>\n",
       "      <td>1.01</td>\n",
       "      <td>Very Good</td>\n",
       "      <td>F</td>\n",
       "      <td>VS2</td>\n",
       "      <td>61.5</td>\n",
       "      <td>57.0</td>\n",
       "      <td>6.40</td>\n",
       "      <td>6.48</td>\n",
       "      <td>3.96</td>\n",
       "      <td>8.726</td>\n",
       "    </tr>\n",
       "    <tr>\n",
       "      <th>40454</th>\n",
       "      <td>1.30</td>\n",
       "      <td>Premium</td>\n",
       "      <td>I</td>\n",
       "      <td>VS2</td>\n",
       "      <td>60.1</td>\n",
       "      <td>58.0</td>\n",
       "      <td>7.10</td>\n",
       "      <td>7.14</td>\n",
       "      <td>4.28</td>\n",
       "      <td>8.771</td>\n",
       "    </tr>\n",
       "  </tbody>\n",
       "</table>\n",
       "<p>40455 rows × 10 columns</p>\n",
       "</div>"
      ],
      "text/plain": [
       "       carat        cut color clarity  depth  table     x     y     z  price\n",
       "0       0.30    Premium     D     SI2   62.4   58.0  4.31  4.28  2.68  6.353\n",
       "1       1.01      Ideal     E    VVS2   62.7   56.0  6.42  6.46  4.04  9.183\n",
       "2       0.72      Ideal     F     VS2   61.8   59.0  5.71  5.74  3.54  7.983\n",
       "3       1.08  Very Good     G     SI2   63.2   57.0  6.54  6.50  4.12  8.371\n",
       "4       0.36    Premium     G     VS1   62.3   59.0  4.50  4.55  2.82  6.588\n",
       "...      ...        ...   ...     ...    ...    ...   ...   ...   ...    ...\n",
       "40450   0.42    Premium     D     SI2   62.1   59.0  4.78  4.82  2.98  6.551\n",
       "40451   0.53    Premium     G     VS2   62.0   58.0  5.21  5.18  3.22  7.382\n",
       "40452   0.80       Good     G     SI2   62.8   58.0  5.86  5.90  3.69  7.768\n",
       "40453   1.01  Very Good     F     VS2   61.5   57.0  6.40  6.48  3.96  8.726\n",
       "40454   1.30    Premium     I     VS2   60.1   58.0  7.10  7.14  4.28  8.771\n",
       "\n",
       "[40455 rows x 10 columns]"
      ]
     },
     "execution_count": 48,
     "metadata": {},
     "output_type": "execute_result"
    }
   ],
   "source": [
    "dtrain"
   ]
  },
  {
   "cell_type": "code",
   "execution_count": 49,
   "id": "e7476ca4-f659-4c1a-a3d2-f431ee382553",
   "metadata": {},
   "outputs": [],
   "source": [
    "A = dtrain.drop(\"price\", axis=1)\n",
    "B = dtrain.price"
   ]
  },
  {
   "cell_type": "code",
   "execution_count": 50,
   "id": "6557a164-57fe-44e2-be6a-ea65adf759c9",
   "metadata": {},
   "outputs": [],
   "source": [
    "A_train, A_test, B_train, B_test = train_test_split(A,B, test_size= 0.20, random_state = None)"
   ]
  },
  {
   "cell_type": "code",
   "execution_count": 51,
   "id": "54bc0559-7841-4d36-baea-57b527809448",
   "metadata": {},
   "outputs": [],
   "source": [
    "gs = GridSearchCV(\n",
    "    estimator=DecisionTreeRegressor(),\n",
    "    param_grid={\n",
    "        \"max_depth\": [15, 17, 16],\n",
    "        \"min_samples_split\": [26, 24, 25],\n",
    "    },\n",
    "    cv=5,\n",
    "    verbose=3,\n",
    "    scoring=\"neg_mean_squared_error\",\n",
    "    return_train_score=True\n",
    ")"
   ]
  },
  {
   "cell_type": "code",
   "execution_count": null,
   "id": "32f49034-812f-4e0c-81b7-ba8d4837cfe0",
   "metadata": {},
   "outputs": [],
   "source": []
  },
  {
   "cell_type": "code",
   "execution_count": 52,
   "id": "dd3334e6-4323-4c23-ad74-6759666d46c4",
   "metadata": {},
   "outputs": [
    {
     "ename": "AttributeError",
     "evalue": "'GridSearchCV' object has no attribute 'cv_results_'",
     "output_type": "error",
     "traceback": [
      "\u001b[0;31m---------------------------------------------------------------------------\u001b[0m",
      "\u001b[0;31mAttributeError\u001b[0m                            Traceback (most recent call last)",
      "\u001b[0;32m<ipython-input-52-d09a00be850f>\u001b[0m in \u001b[0;36m<module>\u001b[0;34m\u001b[0m\n\u001b[0;32m----> 1\u001b[0;31m \u001b[0mgrid_search_results\u001b[0m \u001b[0;34m=\u001b[0m \u001b[0mpd\u001b[0m\u001b[0;34m.\u001b[0m\u001b[0mDataFrame\u001b[0m\u001b[0;34m(\u001b[0m\u001b[0mgs\u001b[0m\u001b[0;34m.\u001b[0m\u001b[0mcv_results_\u001b[0m\u001b[0;34m)\u001b[0m\u001b[0;34m\u001b[0m\u001b[0;34m\u001b[0m\u001b[0m\n\u001b[0m\u001b[1;32m      2\u001b[0m \u001b[0;31m# we only keep some of the information\u001b[0m\u001b[0;34m\u001b[0m\u001b[0;34m\u001b[0m\u001b[0;34m\u001b[0m\u001b[0m\n\u001b[1;32m      3\u001b[0m grid_search_results = grid_search_results[['param_max_depth', 'param_min_samples_split',\n\u001b[1;32m      4\u001b[0m        'mean_test_score', 'mean_train_score']]\n",
      "\u001b[0;31mAttributeError\u001b[0m: 'GridSearchCV' object has no attribute 'cv_results_'"
     ]
    }
   ],
   "source": [
    "grid_search_results = pd.DataFrame(gs.cv_results_)\n",
    "# we only keep some of the information\n",
    "grid_search_results = grid_search_results[['param_max_depth', 'param_min_samples_split',\n",
    "       'mean_test_score', 'mean_train_score']]"
   ]
  },
  {
   "cell_type": "code",
   "execution_count": 43,
   "id": "9bcc71f6-becf-4c39-b561-04769c4fa21b",
   "metadata": {},
   "outputs": [
    {
     "ename": "NameError",
     "evalue": "name 'grid_search_results' is not defined",
     "output_type": "error",
     "traceback": [
      "\u001b[0;31m---------------------------------------------------------------------------\u001b[0m",
      "\u001b[0;31mNameError\u001b[0m                                 Traceback (most recent call last)",
      "\u001b[0;32m<ipython-input-43-ff03539bb81e>\u001b[0m in \u001b[0;36m<module>\u001b[0;34m\u001b[0m\n\u001b[0;32m----> 1\u001b[0;31m \u001b[0mgrid_search_results\u001b[0m\u001b[0;34m.\u001b[0m\u001b[0msort_values\u001b[0m\u001b[0;34m(\u001b[0m\u001b[0;34m\"mean_test_score\"\u001b[0m\u001b[0;34m,\u001b[0m \u001b[0mascending\u001b[0m\u001b[0;34m=\u001b[0m\u001b[0;32mFalse\u001b[0m\u001b[0;34m)\u001b[0m\u001b[0;34m\u001b[0m\u001b[0;34m\u001b[0m\u001b[0m\n\u001b[0m",
      "\u001b[0;31mNameError\u001b[0m: name 'grid_search_results' is not defined"
     ]
    }
   ],
   "source": [
    "grid_search_results.sort_values(\"mean_test_score\", ascending=False)"
   ]
  },
  {
   "cell_type": "code",
   "execution_count": null,
   "id": "b6ac39fd-0666-49e6-ace6-78f6cded88fe",
   "metadata": {},
   "outputs": [],
   "source": [
    "best_tree = gs.best_estimator_"
   ]
  },
  {
   "cell_type": "code",
   "execution_count": null,
   "id": "2e6defd2-3f76-42da-bd7e-1dc87eb68a04",
   "metadata": {},
   "outputs": [],
   "source": [
    "best_tree"
   ]
  },
  {
   "cell_type": "code",
   "execution_count": null,
   "id": "448253b6-a91a-4b74-851d-8890ce2ee93a",
   "metadata": {},
   "outputs": [],
   "source": [
    "from sklearn.metrics import mean_squared_error as mse"
   ]
  },
  {
   "cell_type": "code",
   "execution_count": null,
   "id": "e986f69f-ffc4-408f-aaf1-773ecd0bea02",
   "metadata": {},
   "outputs": [],
   "source": [
    "mse(best_tree.predict(X_train), y_train)"
   ]
  },
  {
   "cell_type": "code",
   "execution_count": null,
   "id": "50204ee1-7a20-419a-9096-f4632622bc01",
   "metadata": {},
   "outputs": [],
   "source": [
    "test_real_ult = pd.read_csv(\"Data/test.csv\")"
   ]
  },
  {
   "cell_type": "code",
   "execution_count": null,
   "id": "1a746827-cd18-4bf8-976c-afa06fd8f005",
   "metadata": {},
   "outputs": [],
   "source": []
  },
  {
   "cell_type": "code",
   "execution_count": null,
   "id": "9ec5fc00-3a1c-4cd1-b4ec-533b559a5f20",
   "metadata": {},
   "outputs": [],
   "source": [
    "test_real_ult.columns"
   ]
  },
  {
   "cell_type": "code",
   "execution_count": null,
   "id": "60007037-0e9a-4af6-9de7-f5aea2841db5",
   "metadata": {},
   "outputs": [],
   "source": [
    "test_real_ult.cut = le.fit_transform(test_real_ult[\"cut\"])\n",
    "test_real_ult.color = le.fit_transform(test_real_ult[\"color\"])\n",
    "test_real_ult.clarity = le.fit_transform(test_real_ult[\"clarity\"])"
   ]
  },
  {
   "cell_type": "code",
   "execution_count": null,
   "id": "adc9dcf7-a97a-4223-a320-7bb8a4e58130",
   "metadata": {},
   "outputs": [],
   "source": [
    "test_real_ult[\"id\"] = min_max.fit_transform(test_real_ult[\"id\"].values.reshape(-1, 1))\n",
    "test_real_ult[\"carat\"] = min_max.fit_transform(test_real_ult[\"carat\"].values.reshape(-1, 1))\n",
    "test_real_ult[\"cut\"] = min_max.fit_transform(test_real_ult[\"cut\"].values.reshape(-1, 1))\n",
    "test_real_ult[\"color\"] = min_max.fit_transform(test_real_ult[\"color\"].values.reshape(-1, 1))\n",
    "test_real_ult[\"clarity\"] = min_max.fit_transform(test_real_ult[\"clarity\"].values.reshape(-1, 1))\n",
    "test_real_ult[\"depth\"] = min_max.fit_transform(test_real_ult[\"depth\"].values.reshape(-1, 1))\n",
    "test_real_ult[\"table\"] = min_max.fit_transform(test_real_ult[\"table\"].values.reshape(-1, 1))\n",
    "test_real_ult[\"x\"] = min_max.fit_transform(test_real_ult[\"x\"].values.reshape(-1, 1))\n",
    "test_real_ult[\"y\"] = min_max.fit_transform(test_real_ult[\"y\"].values.reshape(-1, 1))\n",
    "test_real_ult[\"z\"] = min_max.fit_transform(test_real_ult[\"z\"].values.reshape(-1, 1))"
   ]
  },
  {
   "cell_type": "code",
   "execution_count": null,
   "id": "2e2daa8a-2dcd-4b68-94f8-265f4320ef61",
   "metadata": {},
   "outputs": [],
   "source": [
    "test_real_ult"
   ]
  },
  {
   "cell_type": "code",
   "execution_count": null,
   "id": "573d518a-c09c-4661-857d-cf22e5603bd4",
   "metadata": {},
   "outputs": [],
   "source": [
    "test_real_ult = test_real_ult[['carat','color', 'clarity', 'table', 'x', 'y', 'z']]"
   ]
  },
  {
   "cell_type": "code",
   "execution_count": null,
   "id": "813ee342-e6f7-4876-84c0-436c0e94f2d3",
   "metadata": {},
   "outputs": [],
   "source": [
    "final_sol = best_tree.predict(test_real_ult)"
   ]
  },
  {
   "cell_type": "code",
   "execution_count": null,
   "id": "8d13baba-b5b8-40b7-9e67-3fa90df5a610",
   "metadata": {},
   "outputs": [],
   "source": [
    "final_sol"
   ]
  },
  {
   "cell_type": "code",
   "execution_count": null,
   "id": "5950ad50-c203-486b-9df0-0bb046d408b6",
   "metadata": {},
   "outputs": [],
   "source": []
  }
 ],
 "metadata": {
  "kernelspec": {
   "display_name": "ironhack",
   "language": "python",
   "name": "ironhack"
  },
  "language_info": {
   "codemirror_mode": {
    "name": "ipython",
    "version": 3
   },
   "file_extension": ".py",
   "mimetype": "text/x-python",
   "name": "python",
   "nbconvert_exporter": "python",
   "pygments_lexer": "ipython3",
   "version": "3.8.11"
  }
 },
 "nbformat": 4,
 "nbformat_minor": 5
}
